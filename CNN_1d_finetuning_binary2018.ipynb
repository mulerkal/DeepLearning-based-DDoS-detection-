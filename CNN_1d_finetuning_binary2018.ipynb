{
  "cells": [
    {
      "cell_type": "markdown",
      "metadata": {
        "id": "view-in-github",
        "colab_type": "text"
      },
      "source": [
        "<a href=\"https://colab.research.google.com/github/mulerkal/DeepLearning-based-DDoS-detection-/blob/main/CNN_1d_finetuning_binary2018.ipynb\" target=\"_parent\"><img src=\"https://colab.research.google.com/assets/colab-badge.svg\" alt=\"Open In Colab\"/></a>"
      ]
    },
    {
      "cell_type": "code",
      "source": [
        "import numpy as np\n",
        "import pandas as pd\n",
        "import tensorflow as tf\n",
        "import seaborn as sns\n",
        "import datetime as dt\n",
        "from sklearn.metrics import confusion_matrix\n",
        "import seaborn as sns\n",
        "import matplotlib.pyplot as plt\n",
        "from sklearn.model_selection import train_test_split\n",
        "from sklearn.datasets import make_classification\n",
        "from sklearn.linear_model import LogisticRegression\n",
        "#import joblib  # For scikit-learn versions before 0.23.0\n",
        "from keras.layers import Dense, Activation, Input, Conv1D, GlobalAveragePooling1D, Dropout ,BatchNormalization, MaxPooling1D\n",
        "from keras.layers import Conv1D, AveragePooling1D, Flatten, Dense\n",
        "from keras.models import Sequential, save_model, load_model\n",
        "from sklearn.decomposition import PCA\n",
        "from sklearn import metrics\n",
        "from sklearn.metrics import accuracy_score, confusion_matrix, precision_score, recall_score, f1_score, roc_auc_score\n",
        "from sklearn.metrics import classification_report, ConfusionMatrixDisplay\n",
        "from keras.layers import Add\n",
        "from keras.models import Model\n",
        "from sklearn.model_selection import train_test_split\n",
        "import keras\n",
        "\n"
      ],
      "metadata": {
        "id": "15srMsOulCfw"
      },
      "execution_count": 1,
      "outputs": []
    },
    {
      "cell_type": "code",
      "source": [
        "from google.colab import drive\n",
        "drive.mount('/content/drive')"
      ],
      "metadata": {
        "colab": {
          "base_uri": "https://localhost:8080/"
        },
        "id": "fkotyF5m1HE6",
        "outputId": "b51210db-be27-4e13-a2a9-1a40519187f5"
      },
      "execution_count": 2,
      "outputs": [
        {
          "output_type": "stream",
          "name": "stdout",
          "text": [
            "Mounted at /content/drive\n"
          ]
        }
      ]
    },
    {
      "cell_type": "code",
      "source": [
        "# Assuming you have a saved model\n",
        "model = load_model('/content/drive/MyDrive/TransferLearning@FineTuning/1dTransfer_cicids_2018_binary/custom_model_bin3.h5')"
      ],
      "metadata": {
        "id": "n3V53uHjoaFy",
        "colab": {
          "base_uri": "https://localhost:8080/"
        },
        "outputId": "07cd8441-796f-43d3-c8b9-2ad71f1f144b"
      },
      "execution_count": 3,
      "outputs": [
        {
          "output_type": "stream",
          "name": "stderr",
          "text": [
            "/usr/local/lib/python3.11/dist-packages/keras/src/layers/convolutional/base_conv.py:107: UserWarning: Do not pass an `input_shape`/`input_dim` argument to a layer. When using Sequential models, prefer using an `Input(shape)` object as the first layer in the model instead.\n",
            "  super().__init__(activity_regularizer=activity_regularizer, **kwargs)\n",
            "WARNING:absl:Compiled the loaded model, but the compiled metrics have yet to be built. `model.compile_metrics` will be empty until you train or evaluate the model.\n",
            "WARNING:absl:Error in loading the saved optimizer state. As a result, your model is starting with a freshly initialized optimizer.\n"
          ]
        }
      ]
    },
    {
      "cell_type": "code",
      "source": [
        "#read parquet file in a pandas dataframe\n",
        "path = '/content/drive/MyDrive/dataset_zipped-20230608T100425Z-005/dataset_zipped/CSE-CIC-2018/cleaning_file/CICIDS2018_preprocessing_binary.parquet'\n",
        "df = pd.read_parquet(path)\n",
        "print (df.shape)"
      ],
      "metadata": {
        "colab": {
          "base_uri": "https://localhost:8080/"
        },
        "id": "l3TwcplYne67",
        "outputId": "1303dbfb-6cd6-4941-ecb5-3a53f219b61e"
      },
      "execution_count": 4,
      "outputs": [
        {
          "output_type": "stream",
          "name": "stdout",
          "text": [
            "(7384563, 67)\n"
          ]
        }
      ]
    },
    {
      "cell_type": "code",
      "execution_count": null,
      "metadata": {
        "id": "fpGbb3Dkojiz"
      },
      "outputs": [],
      "source": [
        "# One hot encoder\n",
        "labels = pd.unique(new_df['Label'])\n",
        "x_columns = new_df.columns.drop('Label')\n",
        "x = new_df[x_columns].to_numpy()\n",
        "y = pd.get_dummies(new_df['Label']).to_numpy()\n",
        "#del df"
      ]
    },
    {
      "cell_type": "code",
      "execution_count": null,
      "metadata": {
        "colab": {
          "base_uri": "https://localhost:8080/"
        },
        "outputId": "e5ada0ff-b9ca-46e1-a9c2-b7c3e788349f",
        "id": "VcXXHBh1oji0"
      },
      "outputs": [
        {
          "output_type": "stream",
          "name": "stdout",
          "text": [
            "X shape before PCA application --> (3691041, 66)\n",
            "X shape after PCA application --> (3691041, 58)\n"
          ]
        }
      ],
      "source": [
        "#apply PCA reduction\n",
        "print (\"X shape before PCA application --> {}\".format(x.shape))\n",
        "\n",
        "pca = PCA(n_components=\"mle\") #Minka’s MLE is used to guess the dimension\n",
        "x = pca.fit_transform(x)\n",
        "\n",
        "print (\"X shape after PCA application --> {}\".format(x.shape))"
      ]
    },
    {
      "cell_type": "code",
      "source": [
        "#Split dataframe in train/test\n",
        "x_train, x_test, y_train, y_test = train_test_split(x, y, test_size=0.3, random_state=42)\n",
        "print (\"X_train --> {} y_train --> {}\".format(x_train.shape, y_train.shape))\n",
        "print (\"X_test --> {} y_test --> {}\".format(x_test.shape, y_test.shape))"
      ],
      "metadata": {
        "colab": {
          "base_uri": "https://localhost:8080/"
        },
        "id": "r4xXVz5r349X",
        "outputId": "9b2e7a5f-8302-411d-8272-0377e3bb6730"
      },
      "execution_count": null,
      "outputs": [
        {
          "output_type": "stream",
          "name": "stdout",
          "text": [
            "X_train --> (2583728, 58) y_train --> (2583728, 2)\n",
            "X_test --> (1107313, 58) y_test --> (1107313, 2)\n"
          ]
        }
      ]
    },
    {
      "cell_type": "code",
      "source": [
        "#test a model\n",
        "escore = model.evaluate(x_test, y_test, batch_size=1000)\n",
        "y_pred = model.predict(x_test)"
      ],
      "metadata": {
        "colab": {
          "base_uri": "https://localhost:8080/"
        },
        "id": "350faYpm2K0P",
        "outputId": "cbcc156c-1a8a-4be9-cc5c-4c21aac3bd3b"
      },
      "execution_count": null,
      "outputs": [
        {
          "output_type": "stream",
          "name": "stdout",
          "text": [
            "1108/1108 [==============================] - 18s 9ms/step - loss: 0.0100 - accuracy: 0.9974\n",
            "34604/34604 [==============================] - 68s 2ms/step\n"
          ]
        }
      ]
    },
    {
      "cell_type": "code",
      "source": [
        "#confusion matrix definition\n",
        "def confusion_plot(y_test, y_test_pred):\n",
        "\n",
        "    C = confusion_matrix(y_test, y_test_pred)\n",
        "    cm_df = pd.DataFrame(C)\n",
        "    plt.figure(figsize=(6,4))\n",
        "    sns.set(font_scale=1.4)\n",
        "    sns.heatmap(cm_df, annot=True, annot_kws={\"size\":12}, fmt='g', cmap='cividis', xticklabels=labels, yticklabels=labels)\n",
        "    #sns.heatmap(cf_matrix, annot=True, mask=off_diag_mask, cmap='OrRd', vmin=vmin, vmax=vmax, cbar_kws=dict(ticks=[]))\n",
        "    plt.ylabel('Actual Class')\n",
        "    plt.xlabel('Predicted Class')\n",
        "\n",
        "    plt.show()"
      ],
      "metadata": {
        "id": "KuuvfTE_5KHr"
      },
      "execution_count": null,
      "outputs": []
    },
    {
      "cell_type": "code",
      "source": [
        "#print a results\n",
        "#print a results\n",
        "y_test_m = np.argmax(y_test,axis=1)\n",
        "y_pred_m = np.argmax(y_pred,axis=1)\n",
        "print (f\"y_test.shape = {y_test.shape} & y_pred.shape = {y_pred.shape}\")\n",
        "\n",
        "target_names = ['Begnign', 'Ddos attack']\n",
        "print(classification_report(y_test_m, y_pred_m))\n",
        "\n",
        "confusion_plot(y_test_m, y_pred_m)\n",
        "\n",
        "vscore = accuracy_score(y_test_m,y_pred_m)\n",
        "rscore = recall_score(y_test_m, y_pred_m, average='weighted')\n",
        "ascore = precision_score(y_test_m, y_pred_m, average='weighted')\n",
        "f1score= f1_score(y_test_m, y_pred_m, average='weighted')\n",
        "\n",
        "print('Completed')\n",
        "print('='*50)\n",
        "print(\"Accuracy score: {}\".format(vscore))\n",
        "print('='*50)\n",
        "print(\"Evaluation score: {}\".format(escore))\n",
        "print('='*50)\n",
        "print(\"Recall score: {}\".format(rscore))\n",
        "print('='*50)\n",
        "print(\"Precision score: {}\".format(ascore))\n",
        "print('='*50)\n",
        "print(\"F1 score: {}\".format(f1score))\n",
        "print('='*50)"
      ],
      "metadata": {
        "colab": {
          "base_uri": "https://localhost:8080/",
          "height": 796
        },
        "id": "-f3PzEU35Ux6",
        "outputId": "7418b9f2-196c-4815-d584-d82be2a3af0d"
      },
      "execution_count": null,
      "outputs": [
        {
          "output_type": "stream",
          "name": "stdout",
          "text": [
            "y_test.shape = (1107313, 2) & y_pred.shape = (1107313, 2)\n",
            "              precision    recall  f1-score   support\n",
            "\n",
            "           0       1.00      1.00      1.00    961386\n",
            "           1       0.98      1.00      0.99    145927\n",
            "\n",
            "    accuracy                           1.00   1107313\n",
            "   macro avg       0.99      1.00      0.99   1107313\n",
            "weighted avg       1.00      1.00      1.00   1107313\n",
            "\n"
          ]
        },
        {
          "output_type": "display_data",
          "data": {
            "text/plain": [
              "<Figure size 600x400 with 2 Axes>"
            ],
            "image/png": "[encoded data removed]"
          },
          "metadata": {}
        },
        {
          "output_type": "stream",
          "name": "stdout",
          "text": [
            "Completed\n",
            "==================================================\n",
            "Accuracy score: 0.9973548581114825\n",
            "==================================================\n",
            "Evaluation score: [0.010011214762926102, 0.9973548650741577]\n",
            "==================================================\n",
            "Recall score: 0.9973548581114825\n",
            "==================================================\n",
            "Precision score: 0.9974010289612674\n",
            "==================================================\n",
            "F1 score: 0.9973651628797702\n",
            "==================================================\n"
          ]
        }
      ]
    },
    {
      "cell_type": "markdown",
      "source": [
        "here binary model classfier from cnn_conv8 from cic_ddos_2019 dataset, which saved in the name of custom_model_bin_9.h5"
      ],
      "metadata": {
        "id": "zwxVsNJWHfLQ"
      }
    },
    {
      "cell_type": "code",
      "source": [
        "#read parquet file in a pandas dataframe\n",
        "path = ('/content/drive/MyDrive/df_total_preprocessing_binarized (2).parquet')\n",
        "df = pd.read_parquet(path)\n",
        "print (df.shape)"
      ],
      "metadata": {
        "colab": {
          "base_uri": "https://localhost:8080/"
        },
        "id": "hAKGX1E_IZSX",
        "outputId": "a928ae56-5fdf-4ca2-f273-63d3b28827c7"
      },
      "execution_count": null,
      "outputs": [
        {
          "output_type": "stream",
          "name": "stdout",
          "text": [
            "(10491218, 67)\n"
          ]
        }
      ]
    },
    {
      "cell_type": "code",
      "source": [
        "# One hot encoder\n",
        "labels = pd.unique(df[' Label'])\n",
        "x_columns = df.columns.drop(' Label')\n",
        "x = df[x_columns].to_numpy()\n",
        "y = pd.get_dummies(df[' Label']).to_numpy()\n",
        "#del df"
      ],
      "metadata": {
        "id": "0TTmBMXCJml_"
      },
      "execution_count": null,
      "outputs": []
    },
    {
      "cell_type": "code",
      "source": [
        "#apply PCA reduction\n",
        "print (\"X shape before PCA application --> {}\".format(x.shape))\n",
        "\n",
        "pca = PCA(n_components=\"mle\") #Minka’s MLE is used to guess the dimension\n",
        "x = pca.fit_transform(x)\n",
        "\n",
        "print (\"X shape after PCA application --> {}\".format(x.shape))"
      ],
      "metadata": {
        "colab": {
          "base_uri": "https://localhost:8080/"
        },
        "outputId": "e2bc069b-11cb-4451-d42a-967f38e50d53",
        "id": "1EG6jm1IJmmO"
      },
      "execution_count": null,
      "outputs": [
        {
          "output_type": "stream",
          "name": "stdout",
          "text": [
            "X shape before PCA application --> (10491218, 66)\n",
            "X shape after PCA application --> (10491218, 57)\n"
          ]
        }
      ]
    },
    {
      "cell_type": "code",
      "source": [
        "#Split dataframe in train/test\n",
        "x_train1, x_test1, y_train1, y_test1 = train_test_split(x, y, test_size=0.3, random_state=42)\n",
        "print (\"X_train --> {} y_train --> {}\".format(x_train1.shape, y_train1.shape))\n",
        "print (\"X_test --> {} y_test --> {}\".format(x_test1.shape, y_test1.shape))\n",
        "#del x,y"
      ],
      "metadata": {
        "colab": {
          "base_uri": "https://localhost:8080/"
        },
        "outputId": "102a464b-d1b2-451f-8ab9-64ac5e587df6",
        "id": "cRa0Bi80JmmP"
      },
      "execution_count": null,
      "outputs": [
        {
          "output_type": "stream",
          "name": "stdout",
          "text": [
            "X_train --> (5169194, 58) y_train --> (5169194, 2)\n",
            "X_test --> (2215369, 58) y_test --> (2215369, 2)\n"
          ]
        }
      ]
    },
    {
      "cell_type": "code",
      "source": [
        "#test a model\n",
        "escore = model.evaluate(x_test1, y_test1, batch_size=1000)\n",
        "y_pred = model.predict(x_test1)"
      ],
      "metadata": {
        "colab": {
          "base_uri": "https://localhost:8080/"
        },
        "outputId": "a3f9dd48-414c-4984-f6b7-e27acdef687f",
        "id": "vV-wTU80JmmP"
      },
      "execution_count": null,
      "outputs": [
        {
          "output_type": "stream",
          "name": "stdout",
          "text": [
            "2216/2216 [==============================] - 20s 9ms/step - loss: 0.0092 - accuracy: 0.9977\n",
            "69231/69231 [==============================] - 139s 2ms/step\n"
          ]
        }
      ]
    },
    {
      "cell_type": "code",
      "source": [
        "#confusion matrix definition\n",
        "def confusion_plot(y_test1, y_test_pred):\n",
        "\n",
        "    C = confusion_matrix(y_test1, y_test_pred)\n",
        "    cm_df = pd.DataFrame(C)\n",
        "    plt.figure(figsize=(6,4))\n",
        "    sns.set(font_scale=1.4)\n",
        "    sns.heatmap(cm_df, annot=True, annot_kws={\"size\":12}, fmt='g', cmap='cividis', xticklabels=labels, yticklabels=labels)\n",
        "    plt.ylabel('Actual Class')\n",
        "    plt.xlabel('Predicted Class')\n",
        "\n",
        "    plt.show()"
      ],
      "metadata": {
        "id": "mXOAsIorJ91B"
      },
      "execution_count": null,
      "outputs": []
    },
    {
      "cell_type": "code",
      "source": [
        "#print a results\n",
        "#print a results\n",
        "y_test_m = np.argmax(y_test1,axis=1)\n",
        "y_pred_m = np.argmax(y_pred,axis=1)\n",
        "#print (f\"y_test.shape = {y_test.shape} & y_pred.shape = {y_pred.shape}\")\n",
        "\n",
        "target_names = ['Begnign', 'Ddos attack']\n",
        "print(classification_report(y_test_m, y_pred_m))\n",
        "\n",
        "confusion_plot(y_test_m, y_pred_m)\n",
        "\n",
        "vscore = accuracy_score(y_test_m,y_pred_m)\n",
        "rscore = recall_score(y_test_m, y_pred_m, average='weighted')\n",
        "ascore = precision_score(y_test_m, y_pred_m, average='weighted')\n",
        "f1score= f1_score(y_test_m, y_pred_m, average='weighted')\n",
        "\n",
        "print('Completed')\n",
        "print('='*50)\n",
        "print(\"Accuracy score: {}\".format(vscore))\n",
        "print('='*50)\n",
        "print(\"Evaluation score: {}\".format(escore))\n",
        "print('='*50)\n",
        "print(\"Recall score: {}\".format(rscore))\n",
        "print('='*50)\n",
        "print(\"Precision score: {}\".format(ascore))\n",
        "print('='*50)\n",
        "print(\"F1 score: {}\".format(f1score))\n",
        "print('='*50)"
      ],
      "metadata": {
        "colab": {
          "base_uri": "https://localhost:8080/",
          "height": 798
        },
        "id": "9UweklwyKEAp",
        "outputId": "1757fd84-576f-4b0a-fea3-f7ac12a186fc"
      },
      "execution_count": null,
      "outputs": [
        {
          "output_type": "stream",
          "name": "stdout",
          "text": [
            "              precision    recall  f1-score   support\n",
            "\n",
            "           0       1.00      1.00      1.00   1923929\n",
            "           1       0.98      1.00      0.99    291440\n",
            "\n",
            "    accuracy                           1.00   2215369\n",
            "   macro avg       0.99      1.00      0.99   2215369\n",
            "weighted avg       1.00      1.00      1.00   2215369\n",
            "\n"
          ]
        },
        {
          "output_type": "display_data",
          "data": {
            "text/plain": [
              "<Figure size 600x400 with 2 Axes>"
            ],
            "image/png": "[encoded data removed]"
          },
          "metadata": {}
        },
        {
          "output_type": "stream",
          "name": "stdout",
          "text": [
            "Completed\n",
            "==================================================\n",
            "Accuracy score: 0.9976906781669329\n",
            "==================================================\n",
            "Evaluation score: [0.009216501377522945, 0.9976906776428223]\n",
            "==================================================\n",
            "Recall score: 0.9976906781669329\n",
            "==================================================\n",
            "Precision score: 0.9977271815918725\n",
            "==================================================\n",
            "F1 score: 0.9976987262452134\n",
            "==================================================\n"
          ]
        }
      ]
    },
    {
      "cell_type": "code",
      "source": [],
      "metadata": {
        "id": "hcHc0VBtTdIa"
      },
      "execution_count": null,
      "outputs": []
    },
    {
      "cell_type": "code",
      "source": [],
      "metadata": {
        "id": "_HOS8T83TqhX"
      },
      "execution_count": null,
      "outputs": []
    },
    {
      "cell_type": "markdown",
      "source": [
        "Model transfer from CIC-IDS-2018 dataset to KDDcup99 dataset. The model name is_"
      ],
      "metadata": {
        "id": "QnjrVzDjTwIb"
      }
    },
    {
      "cell_type": "code",
      "source": [
        "# One hot encoder\n",
        "labels = pd.unique(df['Label'])\n",
        "x_columns = df.columns.drop('Label')\n",
        "x = df[x_columns].to_numpy()\n",
        "y = pd.get_dummies(df['Label']).to_numpy()\n",
        "#del df"
      ],
      "metadata": {
        "id": "rLyy-IZ9Tq1K"
      },
      "execution_count": null,
      "outputs": []
    },
    {
      "cell_type": "code",
      "source": [
        "#apply PCA reduction\n",
        "print (\"X shape before PCA application --> {}\".format(x.shape))\n",
        "\n",
        "pca = PCA(n_components=\"mle\") #Minka’s MLE is used to guess the dimension\n",
        "x = pca.fit_transform(x)\n",
        "\n",
        "print (\"X shape after PCA application --> {}\".format(x.shape))"
      ],
      "metadata": {
        "colab": {
          "base_uri": "https://localhost:8080/"
        },
        "outputId": "8f74d648-e408-453e-c08e-fa4367e18c5f",
        "id": "sH9X1YCrTq1L"
      },
      "execution_count": null,
      "outputs": [
        {
          "output_type": "stream",
          "name": "stdout",
          "text": [
            "X shape before PCA application --> (145585, 43)\n",
            "X shape after PCA application --> (145585, 36)\n"
          ]
        }
      ]
    },
    {
      "cell_type": "code",
      "source": [
        "#Split dataframe in train/test\n",
        "x_train, x_test, y_train, y_test = train_test_split(x, y, test_size=0.3, random_state=42)\n",
        "print (\"X_train --> {} y_train --> {}\".format(x_train.shape, y_train.shape))\n",
        "print (\"X_test --> {} y_test --> {}\".format(x_test.shape, y_test.shape))\n",
        "#del x,y"
      ],
      "metadata": {
        "colab": {
          "base_uri": "https://localhost:8080/"
        },
        "outputId": "ce43aca7-cda8-4eb0-cfb8-ce61449fca2a",
        "id": "GzQwN4IVTq1L"
      },
      "execution_count": null,
      "outputs": [
        {
          "output_type": "stream",
          "name": "stdout",
          "text": [
            "X_train --> (101909, 36) y_train --> (101909, 2)\n",
            "X_test --> (43676, 36) y_test --> (43676, 2)\n"
          ]
        }
      ]
    },
    {
      "cell_type": "code",
      "source": [
        "#test a model\n",
        "escore = model.evaluate(x_test, y_test, batch_size=1000)\n",
        "y_pred = model.predict(x_test)"
      ],
      "metadata": {
        "colab": {
          "base_uri": "https://localhost:8080/"
        },
        "outputId": "997f166b-2d25-4159-a98c-ae2c56663c28",
        "id": "PqAjkLlYTq1M"
      },
      "execution_count": null,
      "outputs": [
        {
          "output_type": "stream",
          "name": "stdout",
          "text": [
            "44/44 [==============================] - 0s 2ms/step - loss: 0.0118 - accuracy: 0.9969\n",
            "1365/1365 [==============================] - 2s 1ms/step\n"
          ]
        }
      ]
    },
    {
      "cell_type": "code",
      "source": [
        "#confusion matrix definition\n",
        "def confusion_plot(y_test, y_test_pred):\n",
        "\n",
        "    C = confusion_matrix(y_test, y_test_pred)\n",
        "    cm_df = pd.DataFrame(C)\n",
        "    plt.figure(figsize=(6,4))\n",
        "    sns.set(font_scale=1.4)\n",
        "    sns.heatmap(cm_df, annot=True, annot_kws={\"size\":12}, fmt='g', cmap='cividis', xticklabels=labels, yticklabels=labels)\n",
        "    plt.ylabel('Actual Class')\n",
        "    plt.xlabel('Predicted Class')\n",
        "\n",
        "    plt.show()"
      ],
      "metadata": {
        "id": "hXNblY_JTq1N"
      },
      "execution_count": null,
      "outputs": []
    },
    {
      "cell_type": "code",
      "source": [
        "#print a results\n",
        "#print a results\n",
        "y_test_m = np.argmax(y_test,axis=1)\n",
        "y_pred_m = np.argmax(y_pred,axis=1)\n",
        "#print (f\"y_test.shape = {y_test.shape} & y_pred.shape = {y_pred.shape}\")\n",
        "\n",
        "target_names = ['Begnign', 'Ddos attack']\n",
        "print(classification_report(y_test_m, y_pred_m))\n",
        "\n",
        "confusion_plot(y_test_m, y_pred_m)\n",
        "\n",
        "vscore = accuracy_score(y_test_m,y_pred_m)\n",
        "rscore = recall_score(y_test_m, y_pred_m, average='weighted')\n",
        "ascore = precision_score(y_test_m, y_pred_m, average='weighted')\n",
        "f1score= f1_score(y_test_m, y_pred_m, average='weighted')\n",
        "\n",
        "print('Completed')\n",
        "print('='*50)\n",
        "print(\"Accuracy score: {}\".format(vscore))\n",
        "print('='*50)\n",
        "print(\"Evaluation score: {}\".format(escore))\n",
        "print('='*50)\n",
        "print(\"Recall score: {}\".format(rscore))\n",
        "print('='*50)\n",
        "print(\"Precision score: {}\".format(ascore))\n",
        "print('='*50)\n",
        "print(\"F1 score: {}\".format(f1score))\n",
        "print('='*50)"
      ],
      "metadata": {
        "colab": {
          "base_uri": "https://localhost:8080/",
          "height": 778
        },
        "outputId": "a406a867-4683-401d-bc94-79f076c2c56d",
        "id": "kzROMbnoTq1O"
      },
      "execution_count": null,
      "outputs": [
        {
          "output_type": "stream",
          "name": "stdout",
          "text": [
            "              precision    recall  f1-score   support\n",
            "\n",
            "           0       1.00      1.00      1.00     26367\n",
            "           1       1.00      1.00      1.00     17309\n",
            "\n",
            "    accuracy                           1.00     43676\n",
            "   macro avg       1.00      1.00      1.00     43676\n",
            "weighted avg       1.00      1.00      1.00     43676\n",
            "\n"
          ]
        },
        {
          "output_type": "display_data",
          "data": {
            "text/plain": [
              "<Figure size 600x400 with 2 Axes>"
            ],
            "image/png": "[encoded data removed]"
          },
          "metadata": {}
        },
        {
          "output_type": "stream",
          "name": "stdout",
          "text": [
            "Completed\n",
            "==================================================\n",
            "Accuracy score: 0.9969090576060079\n",
            "==================================================\n",
            "Evaluation score: [0.01183742843568325, 0.9969090819358826]\n",
            "==================================================\n",
            "Recall score: 0.9969090576060079\n",
            "==================================================\n",
            "Precision score: 0.9969090837679325\n",
            "==================================================\n",
            "F1 score: 0.996908611290528\n",
            "==================================================\n"
          ]
        }
      ]
    },
    {
      "cell_type": "markdown",
      "source": [
        "from 2019 to 2018 50%dataset"
      ],
      "metadata": {
        "id": "YJcrtsX5XiC2"
      }
    },
    {
      "cell_type": "code",
      "source": [
        "# Assuming you have a saved model\n",
        "model = load_model('/content/drive/MyDrive/TransferLearning@FineTuning/custom_conv18_2019.h5')"
      ],
      "metadata": {
        "id": "_9z6UrLrYN9Z"
      },
      "execution_count": null,
      "outputs": []
    },
    {
      "cell_type": "code",
      "source": [
        "#read parquet file in a pandas dataframe\n",
        "path = ('/content/drive/MyDrive/dataset_zipped-20230608T100425Z-005/dataset_zipped/CSE-CIC-2018/cleaning_file/CICIDS2018_preprocessing_binary.parquet')\n",
        "df = pd.read_parquet(path)\n",
        "print (df.shape)"
      ],
      "metadata": {
        "colab": {
          "base_uri": "https://localhost:8080/"
        },
        "outputId": "a5fdb7c9-befc-44e1-a72f-15edbeea6c3f",
        "id": "D9RIeIxdYN9t"
      },
      "execution_count": null,
      "outputs": [
        {
          "output_type": "stream",
          "name": "stdout",
          "text": [
            "(7384563, 67)\n"
          ]
        }
      ]
    },
    {
      "cell_type": "code",
      "source": [
        "# One hot encoder\n",
        "labels = pd.unique(df['Label'])\n",
        "x_columns = df.columns.drop('Label')\n",
        "x = df[x_columns].to_numpy()\n",
        "y = pd.get_dummies(df['Label']).to_numpy()\n",
        "#del df"
      ],
      "metadata": {
        "id": "A0CcvK_yYN9u"
      },
      "execution_count": null,
      "outputs": []
    },
    {
      "cell_type": "code",
      "source": [],
      "metadata": {
        "id": "NGuZJ6w9Z-g_"
      },
      "execution_count": null,
      "outputs": []
    },
    {
      "cell_type": "code",
      "source": [
        "# One hot encoder\n",
        "labels = pd.unique(df['Label'])\n",
        "x_columns = df.columns.drop('Label')\n",
        "x = df[x_columns].to_numpy()\n",
        "y = pd.get_dummies(df['Label']).to_numpy()\n",
        "#del df"
      ],
      "metadata": {
        "id": "TtzJ_VZQamuu"
      },
      "execution_count": null,
      "outputs": []
    },
    {
      "cell_type": "code",
      "source": [
        "#apply PCA reduction\n",
        "print (\"X shape before PCA application --> {}\".format(x.shape))\n",
        "\n",
        "pca = PCA(n_components=\"mle\") #Minka’s MLE is used to guess the dimension\n",
        "x = pca.fit_transform(x)\n",
        "\n",
        "print (\"X shape after PCA application --> {}\".format(x.shape))"
      ],
      "metadata": {
        "colab": {
          "base_uri": "https://localhost:8080/"
        },
        "outputId": "1e9f0926-728b-4ff0-97ba-159558f51cb8",
        "id": "K3e4m0gMYN9u"
      },
      "execution_count": null,
      "outputs": [
        {
          "output_type": "stream",
          "name": "stdout",
          "text": [
            "X shape before PCA application --> (7384563, 66)\n",
            "X shape after PCA application --> (7384563, 58)\n"
          ]
        }
      ]
    },
    {
      "cell_type": "code",
      "source": [
        "#Split dataframe in train/test\n",
        "x_train, x_test, y_train, y_test = train_test_split(x, y, test_size=0.3, random_state=42)\n",
        "print (\"X_train --> {} y_train --> {}\".format(x_train.shape, y_train.shape))\n",
        "print (\"X_test --> {} y_test --> {}\".format(x_test.shape, y_test.shape))\n",
        "#del x,y"
      ],
      "metadata": {
        "colab": {
          "base_uri": "https://localhost:8080/"
        },
        "outputId": "516ceb6d-f3ff-4f4b-de81-496dcf08a81d",
        "id": "WytPl3WJYN9v"
      },
      "execution_count": null,
      "outputs": [
        {
          "output_type": "stream",
          "name": "stdout",
          "text": [
            "X_train --> (5169194, 58) y_train --> (5169194, 2)\n",
            "X_test --> (2215369, 58) y_test --> (2215369, 2)\n"
          ]
        }
      ]
    },
    {
      "cell_type": "code",
      "source": [],
      "metadata": {
        "id": "XNGKFTN8uzBc"
      },
      "execution_count": null,
      "outputs": []
    },
    {
      "cell_type": "code",
      "source": [
        "#confusion matrix definition\n",
        "def confusion_plot(y_test, y_test_pred):\n",
        "\n",
        "    C = confusion_matrix(y_test, y_test_pred)\n",
        "    cm_df = pd.DataFrame(C)\n",
        "    plt.figure(figsize=(20,15))\n",
        "    sns.set(font_scale=1.4)\n",
        "    sns.heatmap(cm_df, annot=True, annot_kws={\"size\":12}, fmt='d', cmap='Blues', xticklabels=labels, yticklabels=labels)\n",
        "    plt.ylabel('Actual Class')\n",
        "    plt.xlabel('Predicted Class')\n",
        "\n",
        "    plt.show()"
      ],
      "metadata": {
        "id": "AjpFCZ3RYN9w"
      },
      "execution_count": null,
      "outputs": []
    },
    {
      "cell_type": "code",
      "execution_count": null,
      "metadata": {
        "id": "r7ZWNysAsnGe"
      },
      "outputs": [],
      "source": [
        "# One hot encoder\n",
        "labels = pd.unique(new_df['Label'])\n",
        "x_columns = new_df.columns.drop('Label')\n",
        "x1 = new_df[x_columns].to_numpy()\n",
        "y1 = pd.get_dummies(new_df['Label']).to_numpy()\n",
        "#del df"
      ]
    },
    {
      "cell_type": "code",
      "execution_count": null,
      "metadata": {
        "colab": {
          "base_uri": "https://localhost:8080/"
        },
        "outputId": "8ef2eaec-50b7-48e9-bebd-83f5e3895c21",
        "id": "hfe1QbJ8snGe"
      },
      "outputs": [
        {
          "output_type": "stream",
          "name": "stdout",
          "text": [
            "X shape before PCA application --> (1848011, 66)\n",
            "X shape after PCA application --> (1848011, 58)\n"
          ]
        }
      ],
      "source": [
        "#apply PCA reduction\n",
        "print (\"X shape before PCA application --> {}\".format(x1.shape))\n",
        "\n",
        "pca = PCA(n_components=\"mle\") #Minka’s MLE is used to guess the dimension\n",
        "x1 = pca.fit_transform(x1)\n",
        "\n",
        "print (\"X shape after PCA application --> {}\".format(x1.shape))"
      ]
    },
    {
      "cell_type": "code",
      "source": [
        "#Split dataframe in train/test\n",
        "x_train1, x_test1, y_train1, y_test1 = train_test_split(x1, y1, test_size=0.3, random_state=42)\n",
        "print (\"X_train --> {} y_train --> {}\".format(x_train1.shape, y_train1.shape))\n",
        "print (\"X_test --> {} y_test --> {}\".format(x_test1.shape, y_test1.shape))"
      ],
      "metadata": {
        "colab": {
          "base_uri": "https://localhost:8080/"
        },
        "outputId": "6537b78a-f68d-4492-deba-149ae2148bab",
        "id": "ZJXDJXLFsnGe"
      },
      "execution_count": null,
      "outputs": [
        {
          "output_type": "stream",
          "name": "stdout",
          "text": [
            "X_train --> (1293607, 58) y_train --> (1293607, 2)\n",
            "X_test --> (554404, 58) y_test --> (554404, 2)\n"
          ]
        }
      ]
    },
    {
      "cell_type": "code",
      "source": [
        "#test a model\n",
        "escore = model.evaluate(x_test1, y_test1, batch_size=1000)\n",
        "y_pred = model.predict(x_test1)"
      ],
      "metadata": {
        "colab": {
          "base_uri": "https://localhost:8080/"
        },
        "outputId": "2dd21c75-0341-4add-8b74-8294adec49e2",
        "id": "96RfGf_ssnGf"
      },
      "execution_count": null,
      "outputs": [
        {
          "output_type": "stream",
          "name": "stdout",
          "text": [
            "555/555 [==============================] - 5s 9ms/step - loss: 0.0162 - accuracy: 0.9959\n",
            "17326/17326 [==============================] - 34s 2ms/step\n"
          ]
        }
      ]
    },
    {
      "cell_type": "code",
      "source": [
        "#confusion matrix definition\n",
        "def confusion_plot(y_test1, y_test_pred):\n",
        "\n",
        "    C = confusion_matrix(y_test1, y_test_pred)\n",
        "    cm_df = pd.DataFrame(C)\n",
        "    plt.figure(figsize=(6,4))\n",
        "    sns.set(font_scale=1.4)\n",
        "    sns.heatmap(cm_df, annot=True, annot_kws={\"size\":12}, fmt='g', cmap='cividis', xticklabels=labels, yticklabels=labels)\n",
        "    #sns.heatmap(cf_matrix, annot=True, mask=off_diag_mask, cmap='OrRd', vmin=vmin, vmax=vmax, cbar_kws=dict(ticks=[]))\n",
        "    plt.ylabel('Actual Class')\n",
        "    plt.xlabel('Predicted Class')\n",
        "\n",
        "    plt.show()"
      ],
      "metadata": {
        "id": "neAi3qOGsnGf"
      },
      "execution_count": null,
      "outputs": []
    },
    {
      "cell_type": "code",
      "source": [
        "#print a results\n",
        "#print a results\n",
        "y_test_m = np.argmax(y_test1,axis=1)\n",
        "y_pred_m = np.argmax(y_pred,axis=1)\n",
        "print (f\"y_test.shape = {y_test1.shape} & y_pred.shape = {y_pred.shape}\")\n",
        "\n",
        "target_names = ['Begnign', 'Ddos attack']\n",
        "print(classification_report(y_test_m, y_pred_m))\n",
        "\n",
        "confusion_plot(y_test_m, y_pred_m)\n",
        "\n",
        "vscore = accuracy_score(y_test_m,y_pred_m)\n",
        "rscore = recall_score(y_test_m, y_pred_m, average='weighted')\n",
        "ascore = precision_score(y_test_m, y_pred_m, average='weighted')\n",
        "f1score= f1_score(y_test_m, y_pred_m, average='weighted')\n",
        "\n",
        "print('Completed')\n",
        "print('='*50)\n",
        "print(\"Accuracy score: {}\".format(vscore))\n",
        "print('='*50)\n",
        "print(\"Evaluation score: {}\".format(escore))\n",
        "print('='*50)\n",
        "print(\"Recall score: {}\".format(rscore))\n",
        "print('='*50)\n",
        "print(\"Precision score: {}\".format(ascore))\n",
        "print('='*50)\n",
        "print(\"F1 score: {}\".format(f1score))\n",
        "print('='*50)"
      ],
      "metadata": {
        "colab": {
          "base_uri": "https://localhost:8080/",
          "height": 796
        },
        "outputId": "12290e49-3775-4829-8049-eb8f6f322cc9",
        "id": "0LM1cr7DsnGf"
      },
      "execution_count": null,
      "outputs": [
        {
          "output_type": "stream",
          "name": "stdout",
          "text": [
            "y_test.shape = (554404, 2) & y_pred.shape = (554404, 2)\n",
            "              precision    recall  f1-score   support\n",
            "\n",
            "           0       1.00      1.00      1.00    481757\n",
            "           1       0.97      1.00      0.98     72647\n",
            "\n",
            "    accuracy                           1.00    554404\n",
            "   macro avg       0.99      1.00      0.99    554404\n",
            "weighted avg       1.00      1.00      1.00    554404\n",
            "\n"
          ]
        },
        {
          "output_type": "display_data",
          "data": {
            "text/plain": [
              "<Figure size 600x400 with 2 Axes>"
            ],
            "image/png": "[encoded data removed]"
          },
          "metadata": {}
        },
        {
          "output_type": "stream",
          "name": "stdout",
          "text": [
            "Completed\n",
            "==================================================\n",
            "Accuracy score: 0.9959343727678732\n",
            "==================================================\n",
            "Evaluation score: [0.016205765306949615, 0.9959343671798706]\n",
            "==================================================\n",
            "Recall score: 0.9959343727678732\n",
            "==================================================\n",
            "Precision score: 0.9960360548037149\n",
            "==================================================\n",
            "F1 score: 0.9959577235412865\n",
            "==================================================\n"
          ]
        }
      ]
    },
    {
      "cell_type": "markdown",
      "source": [
        "From cic_ddos_2019 data set to the UNSAB15 dataset for binary classfication transfer model"
      ],
      "metadata": {
        "id": "JX1LodokvR7b"
      }
    },
    {
      "cell_type": "code",
      "source": [],
      "metadata": {
        "id": "qBe0Mio9vOKL"
      },
      "execution_count": null,
      "outputs": []
    },
    {
      "cell_type": "markdown",
      "source": [],
      "metadata": {
        "id": "yK5BkV9dHqxd"
      }
    },
    {
      "cell_type": "code",
      "source": [
        "# Assuming you have a saved model\n",
        "model = load_model('/content/drive/MyDrive/UNSW-NB15/binary_model_saved')"
      ],
      "metadata": {
        "id": "y1h0cLYWvPLX"
      },
      "execution_count": null,
      "outputs": []
    },
    {
      "cell_type": "code",
      "source": [
        "#read parquet file in a pandas dataframe\n",
        "path = '/content/drive/MyDrive/UNSW-NB15/dataset/bin_data.csv'\n",
        "df1 = pd.read_csv(path)\n",
        "print (df1.shape)"
      ],
      "metadata": {
        "colab": {
          "base_uri": "https://localhost:8080/"
        },
        "outputId": "688a7f2f-5c72-4b92-fed0-e573160a142d",
        "id": "fNsCXifIvPLp"
      },
      "execution_count": null,
      "outputs": [
        {
          "output_type": "stream",
          "name": "stdout",
          "text": [
            "(81173, 16)\n"
          ]
        }
      ]
    },
    {
      "cell_type": "markdown",
      "source": [
        "from cic_ddos_2019 to UNSB15 binary classfication"
      ],
      "metadata": {
        "id": "S18rsYaavPLq"
      }
    },
    {
      "cell_type": "code",
      "execution_count": null,
      "metadata": {
        "colab": {
          "base_uri": "https://localhost:8080/",
          "height": 266
        },
        "id": "-HrhxnUFvPLr",
        "outputId": "8596c121-be80-40dd-893e-5207edc83762"
      },
      "outputs": [
        {
          "output_type": "error",
          "ename": "IndexError",
          "evalue": "ignored",
          "traceback": [
            "\u001b[0;31m---------------------------------------------------------------------------\u001b[0m",
            "\u001b[0;31mIndexError\u001b[0m                                Traceback (most recent call last)",
            "\u001b[0;32m<ipython-input-58-6c142a0227d8>\u001b[0m in \u001b[0;36m<cell line: 2>\u001b[0;34m()\u001b[0m\n\u001b[1;32m      1\u001b[0m \u001b[0;31m# One hot encoder\u001b[0m\u001b[0;34m\u001b[0m\u001b[0;34m\u001b[0m\u001b[0m\n\u001b[0;32m----> 2\u001b[0;31m \u001b[0mlabels\u001b[0m \u001b[0;34m=\u001b[0m \u001b[0mpd\u001b[0m\u001b[0;34m.\u001b[0m\u001b[0munique\u001b[0m\u001b[0;34m(\u001b[0m\u001b[0mdf1\u001b[0m\u001b[0;34m[\u001b[0m\u001b[0;34m'label'\u001b[0m\u001b[0;34m]\u001b[0m\u001b[0;34m)\u001b[0m\u001b[0;34m\u001b[0m\u001b[0;34m\u001b[0m\u001b[0m\n\u001b[0m\u001b[1;32m      3\u001b[0m \u001b[0mx_columns\u001b[0m \u001b[0;34m=\u001b[0m \u001b[0mdf1\u001b[0m\u001b[0;34m.\u001b[0m\u001b[0mcolumns\u001b[0m\u001b[0;34m.\u001b[0m\u001b[0mdrop\u001b[0m\u001b[0;34m(\u001b[0m\u001b[0;34m'label'\u001b[0m\u001b[0;34m)\u001b[0m\u001b[0;34m\u001b[0m\u001b[0;34m\u001b[0m\u001b[0m\n\u001b[1;32m      4\u001b[0m \u001b[0mx2\u001b[0m \u001b[0;34m=\u001b[0m \u001b[0mdf1\u001b[0m\u001b[0;34m[\u001b[0m\u001b[0mx_columns\u001b[0m\u001b[0;34m]\u001b[0m\u001b[0;34m.\u001b[0m\u001b[0mto_numpy\u001b[0m\u001b[0;34m(\u001b[0m\u001b[0;34m)\u001b[0m\u001b[0;34m\u001b[0m\u001b[0;34m\u001b[0m\u001b[0m\n\u001b[1;32m      5\u001b[0m \u001b[0my2\u001b[0m \u001b[0;34m=\u001b[0m \u001b[0mpd\u001b[0m\u001b[0;34m.\u001b[0m\u001b[0mget_dummies\u001b[0m\u001b[0;34m(\u001b[0m\u001b[0mdf1\u001b[0m\u001b[0;34m[\u001b[0m\u001b[0;34m'label'\u001b[0m\u001b[0;34m]\u001b[0m\u001b[0;34m)\u001b[0m\u001b[0;34m.\u001b[0m\u001b[0mto_numpy\u001b[0m\u001b[0;34m(\u001b[0m\u001b[0;34m)\u001b[0m\u001b[0;34m\u001b[0m\u001b[0;34m\u001b[0m\u001b[0m\n",
            "\u001b[0;31mIndexError\u001b[0m: only integers, slices (`:`), ellipsis (`...`), numpy.newaxis (`None`) and integer or boolean arrays are valid indices"
          ]
        }
      ],
      "source": [
        "# One hot encoder\n",
        "labels = pd.unique(df1['label'])\n",
        "x_columns = df1.columns.drop('label')\n",
        "x2 = df1[x_columns].to_numpy()\n",
        "y2 = pd.get_dummies(df1['label']).to_numpy()\n",
        "#del df"
      ]
    },
    {
      "cell_type": "code",
      "execution_count": null,
      "metadata": {
        "colab": {
          "base_uri": "https://localhost:8080/"
        },
        "outputId": "d557f281-c463-428b-ef19-d1c8839b4f92",
        "id": "gKLdGcUzvPLr"
      },
      "outputs": [
        {
          "output_type": "stream",
          "name": "stdout",
          "text": [
            "X shape before PCA application --> (81173, 15)\n",
            "X shape after PCA application --> (81173, 15)\n"
          ]
        }
      ],
      "source": [
        "#apply PCA reduction\n",
        "print (\"X shape before PCA application --> {}\".format(x.shape))\n",
        "\n",
        "pca = PCA(n_components=\"mle\") #Minka’s MLE is used to guess the dimension\n",
        "x2 = pca.fit_transform(x2)\n",
        "\n",
        "print (\"X shape after PCA application --> {}\".format(x.shape))"
      ]
    },
    {
      "cell_type": "code",
      "source": [],
      "metadata": {
        "id": "XfijDXQ3zKyU"
      },
      "execution_count": null,
      "outputs": []
    },
    {
      "cell_type": "code",
      "source": [
        "#Split dataframe in train/test\n",
        "x_train2, x_test2, y_train2, y_test2 = train_test_split(x, y, test_size=0.3, random_state=42)\n",
        "print (\"X_train --> {} y_train --> {}\".format(x_train2.shape, y_train2.shape))\n",
        "print (\"X_test --> {} y_test --> {}\".format(x_test2.shape, y_test2.shape))"
      ],
      "metadata": {
        "colab": {
          "base_uri": "https://localhost:8080/"
        },
        "outputId": "b816bab0-a42d-4f0e-a1f2-fb20d4c604f0",
        "id": "pfWBqbxfvPLs"
      },
      "execution_count": null,
      "outputs": [
        {
          "output_type": "stream",
          "name": "stdout",
          "text": [
            "X_train --> (56821, 15) y_train --> (56821, 2)\n",
            "X_test --> (24352, 15) y_test --> (24352, 2)\n"
          ]
        }
      ]
    },
    {
      "cell_type": "code",
      "source": [
        "# Define the 1D CNN model\n",
        "model = keras.Sequential()\n",
        "\n",
        "# Define hyperparameters\n",
        "num_filters = 64\n",
        "kernel_size = 3\n",
        "num_conv_layers = 18\n",
        "\n",
        "# Modify the input shape to match the number of features (58)\n",
        "input_shape = (x_train2.shape[1], 1)\n",
        "\n",
        "for _ in range(num_conv_layers):\n",
        "    model.add(Conv1D(filters=num_filters, kernel_size=kernel_size, activation='relu', padding='same', input_shape=input_shape))\n",
        "\n",
        "model.add(GlobalAveragePooling1D())\n",
        "model.add(Dense(128, activation='relu'))\n",
        "model.add(Dense(2, activation='sigmoid'))  # Adjust for number of classes\n",
        "\n",
        "# Compile the model\n",
        "model.compile(optimizer='adam',\n",
        "              loss='binary_crossentropy',\n",
        "              metrics=['accuracy'])"
      ],
      "metadata": {
        "id": "odUrdV882IYz"
      },
      "execution_count": null,
      "outputs": []
    },
    {
      "cell_type": "code",
      "source": [
        "# Define callbacks\n",
        "model_checkpoint = ModelCheckpoint('/content/drive/MyDrive/TransferLearning@FineTuning/custom_conv18_unsw_nb15.h5', save_best_only=True, verbose=1)\n",
        "early_stopping = EarlyStopping(monitor='val_loss', patience=5, verbose=1)\n",
        "\n",
        "# Train the model\n",
        "history = model.fit(x_train2, y_train2, epochs=30, batch_size=64, validation_data=(x_test2, y_test2),\n",
        "                    callbacks=[model_checkpoint, early_stopping])\n",
        "\n",
        "# Save the model and its weights for later use\n",
        "model.save('/content/drive/MyDrive/TransferLearning@FineTuning/custom_conv18_unsw_nb15.h5')\n",
        "model.save_weights('custom_conv4_2019.h5')\n",
        "\n",
        "# Save the model history and hyperparameters\n",
        "model_info = {\n",
        "    'history': history.history,\n",
        "    'hyperparameters': {\n",
        "        'epochs': 10,\n",
        "        'batch_size': 64\n",
        "        # Add more hyperparameters as needed\n",
        "    }\n",
        "}\n",
        "\n",
        "np.save('/content/drive/MyDrive/TransferLearning@FineTuning/model_info_custom_conv18_unsw_nb15.npy', model_info)"
      ],
      "metadata": {
        "colab": {
          "base_uri": "https://localhost:8080/"
        },
        "id": "Nx-D-y4A2Zsj",
        "outputId": "7f9d6211-a8a2-47e7-b50e-f297661fba90"
      },
      "execution_count": null,
      "outputs": [
        {
          "output_type": "stream",
          "name": "stdout",
          "text": [
            "Epoch 1/30\n",
            "888/888 [==============================] - ETA: 0s - loss: 0.0972 - accuracy: 0.9645\n",
            "Epoch 1: val_loss improved from inf to 0.05922, saving model to /content/drive/MyDrive/TransferLearning@FineTuning/custom_conv18_unsw_nb15.h5\n"
          ]
        },
        {
          "output_type": "stream",
          "name": "stderr",
          "text": [
            "/usr/local/lib/python3.10/dist-packages/keras/src/engine/training.py:3079: UserWarning: You are saving your model as an HDF5 file via `model.save()`. This file format is considered legacy. We recommend using instead the native Keras format, e.g. `model.save('my_model.keras')`.\n",
            "  saving_api.save_model(\n"
          ]
        },
        {
          "output_type": "stream",
          "name": "stdout",
          "text": [
            "\b\b\b\b\b\b\b\b\b\b\b\b\b\b\b\b\b\b\b\b\b\b\b\b\b\b\b\b\b\b\b\b\b\b\b\b\b\b\b\b\b\b\b\b\b\b\b\b\b\b\b\b\b\b\b\b\b\b\b\b\b\b\b\b\b\b\b\b\b\b\b\b\b\b\b\b\b\b\b\b\b\b\b\b\r888/888 [==============================] - 15s 11ms/step - loss: 0.0972 - accuracy: 0.9645 - val_loss: 0.0592 - val_accuracy: 0.9868\n",
            "Epoch 2/30\n",
            "886/888 [============================>.] - ETA: 0s - loss: 0.0654 - accuracy: 0.9825\n",
            "Epoch 2: val_loss did not improve from 0.05922\n",
            "888/888 [==============================] - 9s 10ms/step - loss: 0.0654 - accuracy: 0.9825 - val_loss: 0.0770 - val_accuracy: 0.9801\n",
            "Epoch 3/30\n",
            "884/888 [============================>.] - ETA: 0s - loss: 0.0674 - accuracy: 0.9802\n",
            "Epoch 3: val_loss did not improve from 0.05922\n",
            "888/888 [==============================] - 10s 11ms/step - loss: 0.0673 - accuracy: 0.9802 - val_loss: 0.0620 - val_accuracy: 0.9808\n",
            "Epoch 4/30\n",
            "885/888 [============================>.] - ETA: 0s - loss: 0.0524 - accuracy: 0.9821\n",
            "Epoch 4: val_loss improved from 0.05922 to 0.04850, saving model to /content/drive/MyDrive/TransferLearning@FineTuning/custom_conv18_unsw_nb15.h5\n",
            "888/888 [==============================] - 11s 12ms/step - loss: 0.0524 - accuracy: 0.9821 - val_loss: 0.0485 - val_accuracy: 0.9848\n",
            "Epoch 5/30\n",
            "884/888 [============================>.] - ETA: 0s - loss: 0.0450 - accuracy: 0.9836\n",
            "Epoch 5: val_loss improved from 0.04850 to 0.04828, saving model to /content/drive/MyDrive/TransferLearning@FineTuning/custom_conv18_unsw_nb15.h5\n",
            "888/888 [==============================] - 10s 12ms/step - loss: 0.0449 - accuracy: 0.9836 - val_loss: 0.0483 - val_accuracy: 0.9826\n",
            "Epoch 6/30\n",
            "885/888 [============================>.] - ETA: 0s - loss: 0.0448 - accuracy: 0.9825\n",
            "Epoch 6: val_loss improved from 0.04828 to 0.04402, saving model to /content/drive/MyDrive/TransferLearning@FineTuning/custom_conv18_unsw_nb15.h5\n",
            "888/888 [==============================] - 10s 11ms/step - loss: 0.0447 - accuracy: 0.9826 - val_loss: 0.0440 - val_accuracy: 0.9848\n",
            "Epoch 7/30\n",
            "883/888 [============================>.] - ETA: 0s - loss: 0.0437 - accuracy: 0.9830\n",
            "Epoch 7: val_loss did not improve from 0.04402\n",
            "888/888 [==============================] - 11s 12ms/step - loss: 0.0437 - accuracy: 0.9830 - val_loss: 0.0441 - val_accuracy: 0.9823\n",
            "Epoch 8/30\n",
            "885/888 [============================>.] - ETA: 0s - loss: 0.0442 - accuracy: 0.9823\n",
            "Epoch 8: val_loss did not improve from 0.04402\n",
            "888/888 [==============================] - 9s 11ms/step - loss: 0.0441 - accuracy: 0.9823 - val_loss: 0.0502 - val_accuracy: 0.9799\n",
            "Epoch 9/30\n",
            "887/888 [============================>.] - ETA: 0s - loss: 0.0443 - accuracy: 0.9824\n",
            "Epoch 9: val_loss improved from 0.04402 to 0.04308, saving model to /content/drive/MyDrive/TransferLearning@FineTuning/custom_conv18_unsw_nb15.h5\n",
            "888/888 [==============================] - 9s 11ms/step - loss: 0.0443 - accuracy: 0.9824 - val_loss: 0.0431 - val_accuracy: 0.9823\n",
            "Epoch 10/30\n",
            "883/888 [============================>.] - ETA: 0s - loss: 0.0417 - accuracy: 0.9828\n",
            "Epoch 10: val_loss did not improve from 0.04308\n",
            "888/888 [==============================] - 9s 10ms/step - loss: 0.0416 - accuracy: 0.9829 - val_loss: 0.0522 - val_accuracy: 0.9742\n",
            "Epoch 11/30\n",
            "887/888 [============================>.] - ETA: 0s - loss: 0.0426 - accuracy: 0.9826\n",
            "Epoch 11: val_loss did not improve from 0.04308\n",
            "888/888 [==============================] - 9s 10ms/step - loss: 0.0425 - accuracy: 0.9826 - val_loss: 0.0524 - val_accuracy: 0.9796\n",
            "Epoch 12/30\n",
            "886/888 [============================>.] - ETA: 0s - loss: 0.0410 - accuracy: 0.9839\n",
            "Epoch 12: val_loss improved from 0.04308 to 0.04295, saving model to /content/drive/MyDrive/TransferLearning@FineTuning/custom_conv18_unsw_nb15.h5\n",
            "888/888 [==============================] - 10s 11ms/step - loss: 0.0410 - accuracy: 0.9839 - val_loss: 0.0429 - val_accuracy: 0.9853\n",
            "Epoch 13/30\n",
            "883/888 [============================>.] - ETA: 0s - loss: 0.0405 - accuracy: 0.9843\n",
            "Epoch 13: val_loss improved from 0.04295 to 0.04061, saving model to /content/drive/MyDrive/TransferLearning@FineTuning/custom_conv18_unsw_nb15.h5\n",
            "888/888 [==============================] - 9s 11ms/step - loss: 0.0404 - accuracy: 0.9843 - val_loss: 0.0406 - val_accuracy: 0.9835\n",
            "Epoch 14/30\n",
            "888/888 [==============================] - ETA: 0s - loss: 0.0594 - accuracy: 0.9811\n",
            "Epoch 14: val_loss did not improve from 0.04061\n",
            "888/888 [==============================] - 10s 11ms/step - loss: 0.0594 - accuracy: 0.9811 - val_loss: 0.0452 - val_accuracy: 0.9849\n",
            "Epoch 15/30\n",
            "883/888 [============================>.] - ETA: 0s - loss: 0.0359 - accuracy: 0.9855\n",
            "Epoch 15: val_loss did not improve from 0.04061\n",
            "888/888 [==============================] - 10s 11ms/step - loss: 0.0360 - accuracy: 0.9855 - val_loss: 0.0522 - val_accuracy: 0.9752\n",
            "Epoch 16/30\n",
            "886/888 [============================>.] - ETA: 0s - loss: 0.0370 - accuracy: 0.9845\n",
            "Epoch 16: val_loss did not improve from 0.04061\n",
            "888/888 [==============================] - 9s 10ms/step - loss: 0.0369 - accuracy: 0.9845 - val_loss: 0.0406 - val_accuracy: 0.9850\n",
            "Epoch 17/30\n",
            "887/888 [============================>.] - ETA: 0s - loss: 0.0353 - accuracy: 0.9866\n",
            "Epoch 17: val_loss improved from 0.04061 to 0.03555, saving model to /content/drive/MyDrive/TransferLearning@FineTuning/custom_conv18_unsw_nb15.h5\n",
            "888/888 [==============================] - 10s 11ms/step - loss: 0.0352 - accuracy: 0.9866 - val_loss: 0.0356 - val_accuracy: 0.9866\n",
            "Epoch 18/30\n",
            "887/888 [============================>.] - ETA: 0s - loss: 0.0349 - accuracy: 0.9868\n",
            "Epoch 18: val_loss did not improve from 0.03555\n",
            "888/888 [==============================] - 9s 11ms/step - loss: 0.0349 - accuracy: 0.9869 - val_loss: 0.0415 - val_accuracy: 0.9837\n",
            "Epoch 19/30\n",
            "887/888 [============================>.] - ETA: 0s - loss: 0.0374 - accuracy: 0.9856\n",
            "Epoch 19: val_loss did not improve from 0.03555\n",
            "888/888 [==============================] - 9s 10ms/step - loss: 0.0375 - accuracy: 0.9856 - val_loss: 0.0467 - val_accuracy: 0.9802\n",
            "Epoch 20/30\n",
            "885/888 [============================>.] - ETA: 0s - loss: 0.0381 - accuracy: 0.9840\n",
            "Epoch 20: val_loss did not improve from 0.03555\n",
            "888/888 [==============================] - 9s 11ms/step - loss: 0.0381 - accuracy: 0.9840 - val_loss: 0.0455 - val_accuracy: 0.9800\n",
            "Epoch 21/30\n",
            "888/888 [==============================] - ETA: 0s - loss: 0.6454 - accuracy: 0.9728\n",
            "Epoch 21: val_loss did not improve from 0.03555\n",
            "888/888 [==============================] - 9s 10ms/step - loss: 0.6454 - accuracy: 0.9728 - val_loss: 0.1140 - val_accuracy: 0.9645\n",
            "Epoch 22/30\n",
            "888/888 [==============================] - ETA: 0s - loss: 0.0471 - accuracy: 0.9832\n",
            "Epoch 22: val_loss did not improve from 0.03555\n",
            "888/888 [==============================] - 9s 10ms/step - loss: 0.0471 - accuracy: 0.9832 - val_loss: 0.0409 - val_accuracy: 0.9841\n",
            "Epoch 22: early stopping\n"
          ]
        }
      ]
    },
    {
      "cell_type": "code",
      "source": [
        "escore = model.evaluate(x_test2, y_test2, batch_size=1000)\n",
        "y_pred = model.predict(x_test2)"
      ],
      "metadata": {
        "colab": {
          "base_uri": "https://localhost:8080/"
        },
        "id": "uOGdiO_G5hwK",
        "outputId": "d8edb7a2-3eb2-486f-a456-9f0edb041d74"
      },
      "execution_count": null,
      "outputs": [
        {
          "output_type": "stream",
          "name": "stdout",
          "text": [
            "25/25 [==============================] - 0s 10ms/step - loss: 0.0409 - accuracy: 0.9841\n",
            "761/761 [==============================] - 2s 3ms/step\n"
          ]
        }
      ]
    },
    {
      "cell_type": "code",
      "source": [
        "#confusion matrix definition\n",
        "def confusion_plot(y_test2, y_test_pred):\n",
        "\n",
        "    C = confusion_matrix(y_test2, y_test_pred)\n",
        "    cm_df = pd.DataFrame(C)\n",
        "    plt.figure(figsize=(6,4))\n",
        "    sns.set(font_scale=1.4)\n",
        "    sns.heatmap(cm_df, annot=True, annot_kws={\"size\":12}, fmt='g', cmap='cividis', xticklabels=labels, yticklabels=labels)\n",
        "    #sns.heatmap(cf_matrix, annot=True, mask=off_diag_mask, cmap='OrRd', vmin=vmin, vmax=vmax, cbar_kws=dict(ticks=[]))\n",
        "    plt.ylabel('Actual Class')\n",
        "    plt.xlabel('Predicted Class')\n",
        "\n",
        "    plt.show()"
      ],
      "metadata": {
        "id": "gJibn6G054Lr"
      },
      "execution_count": null,
      "outputs": []
    },
    {
      "cell_type": "code",
      "source": [
        "#print a results\n",
        "#print a results\n",
        "y_test_m = np.argmax(y_test2,axis=1)\n",
        "y_pred_m = np.argmax(y_pred,axis=1)\n",
        "print (f\"y_test.shape = {y_test2.shape} & y_pred.shape = {y_pred.shape}\")\n",
        "\n",
        "target_names = ['Begnign', 'Ddos attack']\n",
        "print(classification_report(y_test_m, y_pred_m))\n",
        "\n",
        "confusion_plot(y_test_m, y_pred_m)\n",
        "\n",
        "vscore = accuracy_score(y_test_m,y_pred_m)\n",
        "rscore = recall_score(y_test_m, y_pred_m, average='weighted')\n",
        "ascore = precision_score(y_test_m, y_pred_m, average='weighted')\n",
        "f1score= f1_score(y_test_m, y_pred_m, average='weighted')\n",
        "\n",
        "print('Completed')\n",
        "print('='*50)\n",
        "print(\"Accuracy score: {}\".format(vscore))\n",
        "print('='*50)\n",
        "print(\"Evaluation score: {}\".format(escore))\n",
        "print('='*50)\n",
        "print(\"Recall score: {}\".format(rscore))\n",
        "print('='*50)\n",
        "print(\"Precision score: {}\".format(ascore))\n",
        "print('='*50)\n",
        "print(\"F1 score: {}\".format(f1score))\n",
        "print('='*50)"
      ],
      "metadata": {
        "colab": {
          "base_uri": "https://localhost:8080/",
          "height": 796
        },
        "outputId": "3eb3fa5f-6939-47bf-8b86-7bbe3553a5c8",
        "id": "khPHE0gD54Ls"
      },
      "execution_count": null,
      "outputs": [
        {
          "output_type": "stream",
          "name": "stdout",
          "text": [
            "y_test.shape = (24352, 2) & y_pred.shape = (24352, 2)\n",
            "              precision    recall  f1-score   support\n",
            "\n",
            "           0       0.98      1.00      0.99     18538\n",
            "           1       1.00      0.93      0.97      5814\n",
            "\n",
            "    accuracy                           0.98     24352\n",
            "   macro avg       0.99      0.97      0.98     24352\n",
            "weighted avg       0.98      0.98      0.98     24352\n",
            "\n"
          ]
        },
        {
          "output_type": "display_data",
          "data": {
            "text/plain": [
              "<Figure size 600x400 with 2 Axes>"
            ],
            "image/png": "[encoded data removed]"
          },
          "metadata": {}
        },
        {
          "output_type": "stream",
          "name": "stdout",
          "text": [
            "Completed\n",
            "==================================================\n",
            "Accuracy score: 0.9840670170827858\n",
            "==================================================\n",
            "Evaluation score: [0.04093411937355995, 0.9840670228004456]\n",
            "==================================================\n",
            "Recall score: 0.9840670170827858\n",
            "==================================================\n",
            "Precision score: 0.9843722720372642\n",
            "==================================================\n",
            "F1 score: 0.9838787008023616\n",
            "==================================================\n"
          ]
        }
      ]
    },
    {
      "cell_type": "code",
      "execution_count": null,
      "metadata": {
        "id": "2pF-vz9gEju9"
      },
      "outputs": [],
      "source": [
        "!pip install -q -U keras-tuner"
      ]
    },
    {
      "cell_type": "code",
      "execution_count": null,
      "metadata": {
        "id": "axEQSMeG1Lj0"
      },
      "outputs": [],
      "source": [
        "import numpy as np\n",
        "import pandas as pd\n",
        "import tensorflow as tf\n",
        "import seaborn as sns\n",
        "import datetime as dt\n",
        "import matplotlib.pyplot as plt\n",
        "#import keras_tuner as kt\n",
        "import io, os, math\n",
        "from tensorflow import keras\n",
        "from keras.optimizers import Adam\n",
        "from keras.models import Sequential, save_model, load_model\n",
        "from keras.layers import Dense, Activation, Input, Conv1D, GlobalAveragePooling1D, Dropout ,BatchNormalization, MaxPooling1D\n",
        "from keras.layers import Conv1D, AveragePooling1D, Flatten, Dense\n",
        "#import kerastuner as kt\n",
        "from keras.callbacks import EarlyStopping, History\n",
        "from sklearn.model_selection import train_test_split\n",
        "from sklearn.decomposition import PCA\n",
        "from sklearn import metrics\n",
        "from sklearn.metrics import accuracy_score, confusion_matrix, precision_score, recall_score, f1_score, roc_auc_score\n",
        "from sklearn.metrics import classification_report, ConfusionMatrixDisplay\n",
        "from keras.layers import Add\n",
        "from keras.models import Model\n",
        "from sklearn.model_selection import train_test_split\n",
        "import numpy as np\n",
        "from keras.callbacks import ModelCheckpoint, EarlyStopping"
      ]
    },
    {
      "cell_type": "code",
      "source": [
        "from google.colab import drive\n",
        "drive.mount('/content/drive')"
      ],
      "metadata": {
        "colab": {
          "base_uri": "https://localhost:8080/"
        },
        "id": "KngNdm6eSRXi",
        "outputId": "2c77bb8f-af5d-41fe-e0b0-d9ac231b4f96"
      },
      "execution_count": null,
      "outputs": [
        {
          "output_type": "stream",
          "name": "stdout",
          "text": [
            "Mounted at /content/drive\n"
          ]
        }
      ]
    },
    {
      "cell_type": "code",
      "execution_count": null,
      "metadata": {
        "id": "LBVHd9fzsZHq",
        "colab": {
          "base_uri": "https://localhost:8080/"
        },
        "outputId": "31c267f7-33f5-4b1f-f06f-aff84999872f"
      },
      "outputs": [
        {
          "output_type": "stream",
          "name": "stdout",
          "text": [
            "(7384563, 67)\n"
          ]
        }
      ],
      "source": [
        "#read parquet file in a pandas dataframe\n",
        "path = '/content/drive/MyDrive/dataset_zipped-20230608T100425Z-005/dataset_zipped/CSE-CIC-2018/cleaning_file/CICIDS2018_preprocessing_binary.parquet'\n",
        "df = pd.read_parquet(path)\n",
        "print (df.shape)"
      ]
    },
    {
      "cell_type": "code",
      "source": [
        " #Specify the percentage of data to drop (75% in this case)\n",
        "percentage_to_drop = 0.75\n",
        "\n",
        "# Generate a boolean mask to select which rows to keep\n",
        "mask = np.random.rand(len(df)) > percentage_to_drop\n",
        "\n",
        "# Create a new DataFrame with the selected rows\n",
        "new_df = df[mask]\n",
        "\n",
        "# You can also reset the index if needed\n",
        "new_df.reset_index(drop=True, inplace=True)\n",
        "\n",
        "# Now 'new_df' contains 25% of your original data"
      ],
      "metadata": {
        "id": "yMoT4cDZiSlj"
      },
      "execution_count": null,
      "outputs": []
    },
    {
      "cell_type": "code",
      "execution_count": null,
      "metadata": {
        "id": "s1JxMcNeiSl4"
      },
      "outputs": [],
      "source": [
        "# One hot encoder\n",
        "labels = pd.unique(new_df['Label'])\n",
        "x_columns = new_df.columns.drop('Label')\n",
        "x1 = new_df[x_columns].to_numpy()\n",
        "y1 = pd.get_dummies(new_df['Label']).to_numpy()\n",
        "#del df"
      ]
    },
    {
      "cell_type": "code",
      "execution_count": null,
      "metadata": {
        "colab": {
          "base_uri": "https://localhost:8080/"
        },
        "outputId": "3762365e-bdde-4cc6-b59e-20b6961e2ac8",
        "id": "Kgk5Ht66iSl5"
      },
      "outputs": [
        {
          "output_type": "stream",
          "name": "stdout",
          "text": [
            "X shape before PCA application --> (1848393, 66)\n",
            "X shape after PCA application --> (1848393, 58)\n"
          ]
        }
      ],
      "source": [
        "#apply PCA reduction\n",
        "print (\"X shape before PCA application --> {}\".format(x1.shape))\n",
        "\n",
        "pca = PCA(n_components=\"mle\") #Minka’s MLE is used to guess the dimension\n",
        "x1 = pca.fit_transform(x1)\n",
        "\n",
        "print (\"X shape after PCA application --> {}\".format(x1.shape))"
      ]
    },
    {
      "cell_type": "code",
      "source": [
        "#Split dataframe in train/test\n",
        "x_train1, x_test1, y_train1, y_test1 = train_test_split(x1, y1, test_size=0.3, random_state=42)\n",
        "print (\"X_train --> {} y_train --> {}\".format(x_train1.shape, y_train1.shape))\n",
        "print (\"X_test --> {} y_test --> {}\".format(x_test1.shape, y_test1.shape))"
      ],
      "metadata": {
        "colab": {
          "base_uri": "https://localhost:8080/"
        },
        "outputId": "7fb3b34e-7bc5-4865-f59f-3ad472d11c1f",
        "id": "z0p8Xu-jiSl5"
      },
      "execution_count": null,
      "outputs": [
        {
          "output_type": "stream",
          "name": "stdout",
          "text": [
            "X_train --> (1293875, 58) y_train --> (1293875, 2)\n",
            "X_test --> (554518, 58) y_test --> (554518, 2)\n"
          ]
        }
      ]
    },
    {
      "cell_type": "code",
      "execution_count": null,
      "metadata": {
        "id": "itQTcC__1XCv"
      },
      "outputs": [],
      "source": [
        "# One hot encoder\n",
        "labels = pd.unique(df['Label'])\n",
        "x_columns = df.columns.drop('Label')\n",
        "x = df[x_columns].to_numpy()\n",
        "y = pd.get_dummies(df['Label']).to_numpy()\n",
        "#del df"
      ]
    },
    {
      "cell_type": "code",
      "execution_count": null,
      "metadata": {
        "id": "ffuXw1dTZQIm",
        "colab": {
          "base_uri": "https://localhost:8080/"
        },
        "outputId": "2b01c567-651d-49bc-c36b-5a0aaa1b955d"
      },
      "outputs": [
        {
          "output_type": "stream",
          "name": "stdout",
          "text": [
            "X shape before PCA application --> (7384563, 66)\n",
            "X shape after PCA application --> (7384563, 58)\n"
          ]
        }
      ],
      "source": [
        "#apply PCA reduction\n",
        "print (\"X shape before PCA application --> {}\".format(x.shape))\n",
        "\n",
        "pca = PCA(n_components=\"mle\") #Minka’s MLE is used to guess the dimension\n",
        "x = pca.fit_transform(x)\n",
        "\n",
        "print (\"X shape after PCA application --> {}\".format(x.shape))"
      ]
    },
    {
      "cell_type": "code",
      "source": [],
      "metadata": {
        "id": "ajkX_tbaDSyv"
      },
      "execution_count": null,
      "outputs": []
    },
    {
      "cell_type": "code",
      "execution_count": null,
      "metadata": {
        "id": "NjHmMJBx2t2u",
        "colab": {
          "base_uri": "https://localhost:8080/"
        },
        "outputId": "0b8a00ba-5968-4966-bd0d-acb1ac327621"
      },
      "outputs": [
        {
          "output_type": "stream",
          "name": "stdout",
          "text": [
            "X_train --> (5169194, 58) y_train --> (5169194, 2)\n",
            "X_test --> (2215369, 58) y_test --> (2215369, 2)\n"
          ]
        }
      ],
      "source": [
        "#Split dataframe in train/test\n",
        "x_train, x_test, y_train, y_test = train_test_split(x, y, test_size=0.3, random_state=42)\n",
        "print (\"X_train --> {} y_train --> {}\".format(x_train.shape, y_train.shape))\n",
        "print (\"X_test --> {} y_test --> {}\".format(x_test.shape, y_test.shape))\n",
        "#del x,y\n"
      ]
    },
    {
      "cell_type": "code",
      "source": [
        "# Define the 1D CNN model\n",
        "model = keras.Sequential()\n",
        "\n",
        "# Define hyperparameters\n",
        "num_filters = 64\n",
        "kernel_size = 3\n",
        "num_conv_layers = 8\n",
        "\n",
        "# Modify the input shape to match the number of features (58)\n",
        "input_shape = (x_train.shape[1], 1)\n",
        "\n",
        "for _ in range(num_conv_layers):\n",
        "    model.add(Conv1D(filters=num_filters, kernel_size=kernel_size, activation='relu', padding='same', input_shape=input_shape))\n",
        "\n",
        "model.add(GlobalAveragePooling1D())\n",
        "model.add(Dense(128, activation='relu'))\n",
        "model.add(Dense(2, activation='sigmoid'))  # Adjust for number of classes\n",
        "\n",
        "# Compile the model\n",
        "model.compile(optimizer='adam',\n",
        "              loss='binary_crossentropy',\n",
        "              metrics=['accuracy'])\n",
        "\n"
      ],
      "metadata": {
        "id": "kcdWXrTWCLDp"
      },
      "execution_count": null,
      "outputs": []
    },
    {
      "cell_type": "code",
      "source": [
        "# Create the model.\n",
        "model.summary()"
      ],
      "metadata": {
        "id": "ua4spUbjNDvd",
        "colab": {
          "base_uri": "https://localhost:8080/"
        },
        "outputId": "beb88c5e-cbe3-4558-824b-425319586710"
      },
      "execution_count": null,
      "outputs": [
        {
          "output_type": "stream",
          "name": "stdout",
          "text": [
            "Model: \"sequential\"\n",
            "_________________________________________________________________\n",
            " Layer (type)                Output Shape              Param #   \n",
            "=================================================================\n",
            " conv1d (Conv1D)             (None, 58, 64)            256       \n",
            "                                                                 \n",
            " conv1d_1 (Conv1D)           (None, 58, 64)            12352     \n",
            "                                                                 \n",
            " conv1d_2 (Conv1D)           (None, 58, 64)            12352     \n",
            "                                                                 \n",
            " conv1d_3 (Conv1D)           (None, 58, 64)            12352     \n",
            "                                                                 \n",
            " conv1d_4 (Conv1D)           (None, 58, 64)            12352     \n",
            "                                                                 \n",
            " conv1d_5 (Conv1D)           (None, 58, 64)            12352     \n",
            "                                                                 \n",
            " conv1d_6 (Conv1D)           (None, 58, 64)            12352     \n",
            "                                                                 \n",
            " conv1d_7 (Conv1D)           (None, 58, 64)            12352     \n",
            "                                                                 \n",
            " global_average_pooling1d (  (None, 64)                0         \n",
            " GlobalAveragePooling1D)                                         \n",
            "                                                                 \n",
            " dense (Dense)               (None, 128)               8320      \n",
            "                                                                 \n",
            " dense_1 (Dense)             (None, 2)                 258       \n",
            "                                                                 \n",
            "=================================================================\n",
            "Total params: 95298 (372.26 KB)\n",
            "Trainable params: 95298 (372.26 KB)\n",
            "Non-trainable params: 0 (0.00 Byte)\n",
            "_________________________________________________________________\n"
          ]
        }
      ]
    },
    {
      "cell_type": "code",
      "source": [
        "# Define callbacks\n",
        "model_checkpoint = ModelCheckpoint('/content/drive/MyDrive/TransferLearning@FineTuning/custom_model_bin3.h5', save_best_only=True, verbose=1)\n",
        "early_stopping = EarlyStopping(monitor='val_loss', patience=5, verbose=1)\n",
        "\n",
        "# Train the model\n",
        "history = model.fit(x_train1, y_train1, epochs=30, batch_size=64, validation_data=(x_test, y_test),\n",
        "                    callbacks=[model_checkpoint, early_stopping])\n",
        "\n",
        "# Save the model and its weights for later use\n",
        "model.save('/content/drive/MyDrive/TransferLearning@FineTuning/custom_model_bin3.h5')\n",
        "model.save_weights('custom_model_weights.h5')\n",
        "\n",
        "# Save the model history and hyperparameters\n",
        "model_info = {\n",
        "    'history': history.history,\n",
        "    'hyperparameters': {\n",
        "        'epochs': 30,\n",
        "        'batch_size': 64\n",
        "        # Add more hyperparameters as needed\n",
        "    }\n",
        "}\n",
        "\n",
        "np.save('/content/drive/MyDrive/TransferLearning@FineTuning/model_info_bin3.npy', model_info)"
      ],
      "metadata": {
        "colab": {
          "base_uri": "https://localhost:8080/"
        },
        "id": "kVQkSmTiKkrn",
        "outputId": "b2756fe8-8bb4-458b-a931-a82ade7bf354"
      },
      "execution_count": null,
      "outputs": [
        {
          "output_type": "stream",
          "name": "stdout",
          "text": [
            "Epoch 1/30\n",
            "80769/80769 [==============================] - ETA: 0s - loss: 0.0174 - accuracy: 0.9936\n",
            "Epoch 1: val_loss improved from inf to 0.00680, saving model to /content/drive/MyDrive/TransferLearning@FineTuning/custom_model_bin3.h5\n",
            "80769/80769 [==============================] - 536s 6ms/step - loss: 0.0174 - accuracy: 0.9936 - val_loss: 0.0068 - val_accuracy: 0.9979\n",
            "Epoch 2/30\n",
            "   19/80769 [..............................] - ETA: 7:51 - loss: 0.0160 - accuracy: 0.9959"
          ]
        },
        {
          "output_type": "stream",
          "name": "stderr",
          "text": [
            "/usr/local/lib/python3.10/dist-packages/keras/src/engine/training.py:3079: UserWarning: You are saving your model as an HDF5 file via `model.save()`. This file format is considered legacy. We recommend using instead the native Keras format, e.g. `model.save('my_model.keras')`.\n",
            "  saving_api.save_model(\n"
          ]
        },
        {
          "output_type": "stream",
          "name": "stdout",
          "text": [
            "80762/80769 [============================>.] - ETA: 0s - loss: 0.0061 - accuracy: 0.9980\n",
            "Epoch 2: val_loss improved from 0.00680 to 0.00524, saving model to /content/drive/MyDrive/TransferLearning@FineTuning/custom_model_bin3.h5\n",
            "80769/80769 [==============================] - 516s 6ms/step - loss: 0.0061 - accuracy: 0.9980 - val_loss: 0.0052 - val_accuracy: 0.9983\n",
            "Epoch 3/30\n",
            "80767/80769 [============================>.] - ETA: 0s - loss: 0.0057 - accuracy: 0.9981\n",
            "Epoch 3: val_loss improved from 0.00524 to 0.00467, saving model to /content/drive/MyDrive/TransferLearning@FineTuning/custom_model_bin3.h5\n",
            "80769/80769 [==============================] - 514s 6ms/step - loss: 0.0057 - accuracy: 0.9981 - val_loss: 0.0047 - val_accuracy: 0.9989\n",
            "Epoch 4/30\n",
            "80761/80769 [============================>.] - ETA: 0s - loss: 0.0068 - accuracy: 0.9981\n",
            "Epoch 4: val_loss did not improve from 0.00467\n",
            "80769/80769 [==============================] - 512s 6ms/step - loss: 0.0068 - accuracy: 0.9981 - val_loss: 0.0051 - val_accuracy: 0.9985\n",
            "Epoch 5/30\n",
            "80765/80769 [============================>.] - ETA: 0s - loss: 0.0054 - accuracy: 0.9983\n",
            "Epoch 5: val_loss did not improve from 0.00467\n",
            "80769/80769 [==============================] - 511s 6ms/step - loss: 0.0054 - accuracy: 0.9983 - val_loss: 0.0074 - val_accuracy: 0.9972\n",
            "Epoch 6/30\n",
            "80766/80769 [============================>.] - ETA: 0s - loss: 0.0061 - accuracy: 0.9982\n",
            "Epoch 6: val_loss did not improve from 0.00467\n",
            "80769/80769 [==============================] - 510s 6ms/step - loss: 0.0061 - accuracy: 0.9982 - val_loss: 0.0072 - val_accuracy: 0.9982\n",
            "Epoch 7/30\n",
            "80766/80769 [============================>.] - ETA: 0s - loss: 0.0062 - accuracy: 0.9983\n",
            "Epoch 7: val_loss did not improve from 0.00467\n",
            "80769/80769 [==============================] - 511s 6ms/step - loss: 0.0062 - accuracy: 0.9983 - val_loss: 0.0054 - val_accuracy: 0.9980\n",
            "Epoch 8/30\n",
            "80762/80769 [============================>.] - ETA: 0s - loss: 0.0075 - accuracy: 0.9983\n",
            "Epoch 8: val_loss did not improve from 0.00467\n",
            "80769/80769 [==============================] - 511s 6ms/step - loss: 0.0075 - accuracy: 0.9983 - val_loss: 0.0092 - val_accuracy: 0.9977\n",
            "Epoch 8: early stopping\n"
          ]
        }
      ]
    },
    {
      "cell_type": "code",
      "source": [
        "#confusion matrix definition\n",
        "def confusion_plot(y_test, y_test_pred):\n",
        "\n",
        "    C = confusion_matrix(y_test, y_test_pred)\n",
        "    cm_df = pd.DataFrame(C)\n",
        "    plt.figure(figsize=(20,15))\n",
        "    sns.set(font_scale=1.4)\n",
        "    sns.heatmap(cm_df, annot=True, annot_kws={\"size\":12}, fmt='g', xticklabels=labels, yticklabels=labels)\n",
        "    plt.ylabel('Actual Class')\n",
        "    plt.xlabel('Predicted Class')\n",
        "\n",
        "    plt.show()"
      ],
      "metadata": {
        "id": "spBanvNjM58H"
      },
      "execution_count": null,
      "outputs": []
    },
    {
      "cell_type": "code",
      "source": [
        "escore = model.evaluate(x_test, y_test, batch_size=1000)\n",
        "y_pred = model.predict(x_test)"
      ],
      "metadata": {
        "colab": {
          "base_uri": "https://localhost:8080/"
        },
        "id": "Bkxg1PfzK7me",
        "outputId": "96e3050c-c1b5-4f4d-b887-61755a636e5e"
      },
      "execution_count": null,
      "outputs": [
        {
          "output_type": "stream",
          "name": "stdout",
          "text": [
            "2216/2216 [==============================] - 20s 9ms/step - loss: 0.0092 - accuracy: 0.9977\n",
            "69231/69231 [==============================] - 127s 2ms/step\n"
          ]
        }
      ]
    },
    {
      "cell_type": "code",
      "source": [
        "# Get the training history\n",
        "training_loss = history.history['loss']\n",
        "validation_loss = history.history['val_loss']\n",
        "training_accuracy = history.history['accuracy']\n",
        "validation_accuracy = history.history['val_accuracy']\n",
        "\n",
        "# Plot the training loss and validation loss\n",
        "plt.figure(figsize=(12, 6))\n",
        "plt.subplot(1, 2, 1)\n",
        "plt.plot(training_loss, label='Training Loss')\n",
        "plt.plot(validation_loss, label='Validation Loss')\n",
        "plt.title('Loss')\n",
        "plt.xlabel('Epoch')\n",
        "plt.legend()\n",
        "\n",
        "# Plot the training accuracy and validation accuracy\n",
        "plt.subplot(1, 2, 2)\n",
        "plt.plot(training_accuracy, label='Training Accuracy')\n",
        "plt.plot(validation_accuracy, label='Validation Accuracy')\n",
        "plt.title('Accuracy')\n",
        "plt.xlabel('Epoch')\n",
        "plt.legend()\n",
        "\n",
        "plt.tight_layout()\n",
        "plt.show()"
      ],
      "metadata": {
        "colab": {
          "base_uri": "https://localhost:8080/",
          "height": 582
        },
        "id": "aZyt_QowNxx1",
        "outputId": "8bfd8b37-b12b-4bbf-f34b-e017da51b59f"
      },
      "execution_count": null,
      "outputs": [
        {
          "output_type": "display_data",
          "data": {
            "text/plain": [
              "<Figure size 1200x600 with 2 Axes>"
            ],
            "image/png": "[encoded data removed]"
          },
          "metadata": {}
        }
      ]
    },
    {
      "cell_type": "code",
      "source": [
        "#print a results\n",
        "#print a results\n",
        "y_test_m = np.argmax(y_test,axis=1)\n",
        "y_pred_m = np.argmax(y_pred,axis=1)\n",
        "print (f\"y_test.shape = {y_test.shape} & y_pred.shape = {y_pred.shape}\")\n",
        "\n",
        "#target_names = ['Begnign', 'Ddos attack']\n",
        "print(classification_report(y_test_m, y_pred_m))\n",
        "\n",
        "confusion_plot(y_test_m, y_pred_m)\n",
        "\n",
        "vscore = accuracy_score(y_test_m,y_pred_m)\n",
        "rscore = recall_score(y_test_m, y_pred_m, average='weighted')\n",
        "ascore = precision_score(y_test_m, y_pred_m, average='weighted')\n",
        "f1score= f1_score(y_test_m, y_pred_m, average='weighted')\n",
        "\n",
        "print('Completed')\n",
        "print('='*50)\n",
        "print(\"Accuracy score: {}\".format(vscore))\n",
        "print('='*50)\n",
        "print(\"Evaluation score: {}\".format(escore))\n",
        "print('='*50)\n",
        "print(\"Recall score: {}\".format(rscore))\n",
        "print('='*50)\n",
        "print(\"Precision score: {}\".format(ascore))\n",
        "print('='*50)\n",
        "print(\"F1 score: {}\".format(f1score))\n",
        "print('='*50)"
      ],
      "metadata": {
        "colab": {
          "base_uri": "https://localhost:8080/",
          "height": 1000
        },
        "id": "q7uPi70EOxXt",
        "outputId": "7627a099-d45f-40c6-b7e8-a2a62f8268ab"
      },
      "execution_count": null,
      "outputs": [
        {
          "output_type": "stream",
          "name": "stdout",
          "text": [
            "y_test.shape = (2215369, 2) & y_pred.shape = (2215369, 2)\n",
            "              precision    recall  f1-score   support\n",
            "\n",
            "           0       1.00      1.00      1.00   1923929\n",
            "           1       0.98      1.00      0.99    291440\n",
            "\n",
            "    accuracy                           1.00   2215369\n",
            "   macro avg       0.99      1.00      0.99   2215369\n",
            "weighted avg       1.00      1.00      1.00   2215369\n",
            "\n"
          ]
        },
        {
          "output_type": "display_data",
          "data": {
            "text/plain": [
              "<Figure size 2000x1500 with 2 Axes>"
            ],
            "image/png": "[encoded data removed]"
          },
          "metadata": {}
        },
        {
          "output_type": "stream",
          "name": "stdout",
          "text": [
            "Completed\n",
            "==================================================\n",
            "Accuracy score: 0.9976906781669329\n",
            "==================================================\n",
            "Evaluation score: [0.009216501377522945, 0.9976906776428223]\n",
            "==================================================\n",
            "Recall score: 0.9976906781669329\n",
            "==================================================\n",
            "Precision score: 0.9977271815918725\n",
            "==================================================\n",
            "F1 score: 0.9976987262452134\n",
            "==================================================\n"
          ]
        }
      ]
    },
    {
      "cell_type": "markdown",
      "source": [],
      "metadata": {
        "id": "7f4A8qfhTJBh"
      }
    },
    {
      "cell_type": "code",
      "execution_count": null,
      "metadata": {
        "colab": {
          "base_uri": "https://localhost:8080/"
        },
        "outputId": "73ba2449-5ee6-4c74-933c-a3dd217dcf0c",
        "id": "-OtraFZaUHik"
      },
      "outputs": [
        {
          "output_type": "stream",
          "name": "stdout",
          "text": [
            "X_target_train --> (101909, 36) y_target_train --> (101909,)\n",
            "X_target_test --> (43676, 36) y_target_test --> (43676,)\n"
          ]
        }
      ],
      "source": [
        "#Split dataframe in train/test\n",
        "x_train1, x_test1, y_train1, y_test1 = train_test_split(x, y, test_size=0.3, random_state=42)\n",
        "print (\"X_target_train --> {} y_target_train --> {}\".format(x_train1.shape, y_train1.shape))\n",
        "print (\"X_target_test --> {} y_target_test --> {}\".format(x_test1.shape, y_test1.shape))\n",
        "#del x,y"
      ]
    },
    {
      "cell_type": "code",
      "source": [
        "# Create a new model for the target dataset with 57 features in the input layer\n",
        "from keras.models import Sequential\n",
        "from keras.layers import Dense, Input\n",
        "from keras.callbacks import ModelCheckpoint, EarlyStopping\n",
        "from sklearn.model_selection import train_test_split\n",
        "import numpy as np\n",
        "\n",
        "# Assuming x_target is your target dataset with shape (None, 57)\n",
        "# Add new layers for the target dataset (with 57 features)\n",
        "target_model = Sequential()\n",
        "target_model.add(Dense(64, activation='relu', input_shape=(57,)))\n",
        "target_model.add(Dense(2, activation='sigmoid'))  # Adjust for your number of classes\n",
        "\n",
        "# Freeze the layers from the pre-trained model\n",
        "for layer in target_model.layers[:-3]:\n",
        "    layer.trainable = False\n",
        "\n",
        "# Compile the target model\n",
        "target_model.compile(optimizer='adam',\n",
        "                     loss='binary_crossentropy',\n",
        "                     metrics=['accuracy'])\n",
        "\n",
        "# Split dataframe in train/test for the target dataset\n",
        "x_target_train, x_target_test, y_target_train, y_target_test = train_test_split(x_target, y_target, test_size=0.3, random_state=42)\n",
        "print (\"X_train --> {} y_train --> {}\".format(x_target_train.shape, y_target_train.shape))\n",
        "print (\"X_test --> {} y_test --> {}\".format(x_target_test.shape, y_target_test.shape))\n",
        "\n",
        "# Define callbacks for the target model\n",
        "model_checkpoint = ModelCheckpoint('target_model.h5', save_best_only=True, verbose=1)\n",
        "early_stopping = EarlyStopping(monitor='val_loss', patience=5, verbose=1)\n",
        "\n",
        "# Fine-tune the target model\n",
        "history1 = target_model.fit(x_target_train, y_target_train_one_hot, epochs=10, batch_size=64, validation_split=0.2,\n",
        "                            callbacks=[model_checkpoint, early_stopping])\n",
        "\n",
        "# Save the target model and its weights for later use\n",
        "target_model.save('target_model.h5')\n",
        "target_model.save_weights('target_model_weights.h5')\n",
        "\n",
        "# Save the target model history and hyperparameters\n",
        "model_info = {\n",
        "    'history': history.history,\n",
        "    'hyperparameters': {\n",
        "        'epochs': 10,\n",
        "        'batch_size': 64\n",
        "        # Add more hyperparameters as needed\n",
        "    }\n",
        "}\n",
        "\n",
        "np.save('target_model_info.npy', model_info)\n"
      ],
      "metadata": {
        "colab": {
          "base_uri": "https://localhost:8080/"
        },
        "id": "ccRnixNO0BKL",
        "outputId": "6e33f807-1b2a-4c72-e16f-7fd265bce5f7"
      },
      "execution_count": null,
      "outputs": [
        {
          "output_type": "stream",
          "name": "stdout",
          "text": [
            "X_train --> (513986, 57) y_train --> (513986,)\n",
            "X_test --> (220280, 57) y_test --> (220280,)\n",
            "Epoch 1/10\n",
            "6422/6425 [============================>.] - ETA: 0s - loss: 0.0635 - accuracy: 0.9904\n",
            "Epoch 1: val_loss improved from inf to 0.05224, saving model to target_model.h5\n",
            "6425/6425 [==============================] - 12s 2ms/step - loss: 0.0635 - accuracy: 0.9904 - val_loss: 0.0522 - val_accuracy: 0.9908\n",
            "Epoch 2/10\n",
            "6420/6425 [============================>.] - ETA: 0s - loss: 0.0534 - accuracy: 0.9906\n",
            "Epoch 2: val_loss did not improve from 0.05224\n",
            "6425/6425 [==============================] - 11s 2ms/step - loss: 0.0534 - accuracy: 0.9906 - val_loss: 0.0524 - val_accuracy: 0.9908\n",
            "Epoch 3/10\n",
            "6396/6425 [============================>.] - ETA: 0s - loss: 0.0534 - accuracy: 0.9906\n",
            "Epoch 3: val_loss did not improve from 0.05224\n",
            "6425/6425 [==============================] - 10s 2ms/step - loss: 0.0534 - accuracy: 0.9906 - val_loss: 0.0522 - val_accuracy: 0.9908\n",
            "Epoch 4/10\n",
            "6400/6425 [============================>.] - ETA: 0s - loss: 0.0534 - accuracy: 0.9906\n",
            "Epoch 4: val_loss did not improve from 0.05224\n",
            "6425/6425 [==============================] - 10s 2ms/step - loss: 0.0534 - accuracy: 0.9906 - val_loss: 0.0523 - val_accuracy: 0.9908\n",
            "Epoch 5/10\n",
            "6417/6425 [============================>.] - ETA: 0s - loss: 0.0534 - accuracy: 0.9906\n",
            "Epoch 5: val_loss did not improve from 0.05224\n",
            "6425/6425 [==============================] - 11s 2ms/step - loss: 0.0534 - accuracy: 0.9906 - val_loss: 0.0523 - val_accuracy: 0.9908\n",
            "Epoch 6/10\n",
            "6424/6425 [============================>.] - ETA: 0s - loss: 0.0534 - accuracy: 0.9906\n",
            "Epoch 6: val_loss did not improve from 0.05224\n",
            "6425/6425 [==============================] - 11s 2ms/step - loss: 0.0534 - accuracy: 0.9906 - val_loss: 0.0522 - val_accuracy: 0.9908\n",
            "Epoch 6: early stopping\n"
          ]
        }
      ]
    },
    {
      "cell_type": "code",
      "source": [
        "#confusion matrix definition\n",
        "def confusion_plot(x_target_train, y_target_test_pred):\n",
        "\n",
        "    C = confusion_matrix(y_target_test, y_target_test_pred)\n",
        "    cm_df = pd.DataFrame(C)\n",
        "    plt.figure(figsize=(20,15))\n",
        "    sns.set(font_scale=1.4)\n",
        "    sns.heatmap(cm_df, annot=True, annot_kws={\"size\":12}, fmt='g', xticklabels=labels, yticklabels=labels)\n",
        "    plt.ylabel('Actual Class')\n",
        "    plt.xlabel('Predicted Class')\n",
        "\n",
        "    plt.show()"
      ],
      "metadata": {
        "id": "pzMoA62P2w76"
      },
      "execution_count": null,
      "outputs": []
    },
    {
      "cell_type": "code",
      "source": [
        "# Assuming you have 2 classes\n",
        "y_target_test_one_hot = to_categorical(y_target_test, num_classes=2)\n",
        "escore = target_model.evaluate(x_target_test, y_target_test_one_hot, batch_size=1000)"
      ],
      "metadata": {
        "colab": {
          "base_uri": "https://localhost:8080/"
        },
        "id": "0dC8aMRU4Bes",
        "outputId": "ad9e8d06-b0ca-4f4a-c4a8-b09a3d09ccf2"
      },
      "execution_count": null,
      "outputs": [
        {
          "output_type": "stream",
          "name": "stdout",
          "text": [
            "221/221 [==============================] - 0s 2ms/step - loss: 0.0508 - accuracy: 0.9905\n"
          ]
        }
      ]
    },
    {
      "cell_type": "code",
      "execution_count": null,
      "metadata": {
        "id": "ZQKodC-jtsva"
      },
      "outputs": [],
      "source": [
        "def custom_cnn1d_binary(input_shape=(57, 1), num_classes=2):\n",
        "    def residual_block(x, filters, stride, kernel_size=3):\n",
        "        # Shortcut\n",
        "        shortcut = x\n",
        "        shortcut = Conv1D(filters, 1, strides=stride, padding='same')(shortcut)\n",
        "\n",
        "        # Main path\n",
        "        x = Conv1D(filters, kernel_size, strides=stride, padding='same')(x)\n",
        "        x = BatchNormalization()(x)\n",
        "        x = Activation('relu')(x)\n",
        "        x = Conv1D(filters, kernel_size, padding='same')(x)\n",
        "        x = BatchNormalization()(x)\n",
        "\n",
        "        # Add shortcut to the main path\n",
        "        x = Add()([x, shortcut])\n",
        "        x = Activation('relu')(x)\n",
        "        return x\n",
        "\n",
        "    input_data = Input(shape=input_shape)\n",
        "\n",
        "    # Initial Conv Layer\n",
        "    x = Conv1D(64, 7, strides=2, padding='same')(input_data)\n",
        "    x = BatchNormalization()(x)\n",
        "    x = Activation('relu')(x)\n",
        "    x = MaxPooling1D(3, strides=2, padding='same')(x)\n",
        "\n",
        "    # Residual Blocks\n",
        "    num_blocks_list = [2, 2, 2, 2]\n",
        "    filters_list = [64, 128, 256, 512]\n",
        "\n",
        "    for stage in range(4):\n",
        "        num_blocks = num_blocks_list[stage]\n",
        "        filters = filters_list[stage]\n",
        "\n",
        "        for block in range(num_blocks):\n",
        "            stride = 1 if stage == 0 and block == 0 else 2\n",
        "            x = residual_block(x, filters, stride)\n",
        "\n",
        "    # Global Average Pooling Layer\n",
        "    x = GlobalAveragePooling1D()(x)\n",
        "\n",
        "    # Fully Connected Layer\n",
        "    x = Dense(256, activation='relu')(x)\n",
        "\n",
        "    # Output Layer\n",
        "    output = Dense(num_classes, activation='softmax')(x)\n",
        "\n",
        "    model = Model(input_data, output)\n",
        "\n",
        "    return model\n",
        "\n",
        "model = custom_cnn1d_binary(input_shape=(66, 1), num_classes=8)\n",
        "model.compile(optimizer='adam',\n",
        "              loss='binary_crossentropy',\n",
        "              metrics=['accuracy'])"
      ]
    },
    {
      "cell_type": "code",
      "execution_count": null,
      "metadata": {
        "id": "S_orzgBBC5CG",
        "colab": {
          "base_uri": "https://localhost:8080/"
        },
        "outputId": "428905d4-430e-4efd-c366-d5f398204911"
      },
      "outputs": [
        {
          "output_type": "stream",
          "name": "stdout",
          "text": [
            "Model: \"model_2\"\n",
            "__________________________________________________________________________________________________\n",
            " Layer (type)                Output Shape                 Param #   Connected to                  \n",
            "==================================================================================================\n",
            " input_3 (InputLayer)        [(None, 57, 1)]              0         []                            \n",
            "                                                                                                  \n",
            " conv1d_50 (Conv1D)          (None, 29, 64)               512       ['input_3[0][0]']             \n",
            "                                                                                                  \n",
            " batch_normalization_34 (Ba  (None, 29, 64)               256       ['conv1d_50[0][0]']           \n",
            " tchNormalization)                                                                                \n",
            "                                                                                                  \n",
            " activation_34 (Activation)  (None, 29, 64)               0         ['batch_normalization_34[0][0]\n",
            "                                                                    ']                            \n",
            "                                                                                                  \n",
            " max_pooling1d_2 (MaxPoolin  (None, 15, 64)               0         ['activation_34[0][0]']       \n",
            " g1D)                                                                                             \n",
            "                                                                                                  \n",
            " conv1d_52 (Conv1D)          (None, 15, 64)               12352     ['max_pooling1d_2[0][0]']     \n",
            "                                                                                                  \n",
            " batch_normalization_35 (Ba  (None, 15, 64)               256       ['conv1d_52[0][0]']           \n",
            " tchNormalization)                                                                                \n",
            "                                                                                                  \n",
            " activation_35 (Activation)  (None, 15, 64)               0         ['batch_normalization_35[0][0]\n",
            "                                                                    ']                            \n",
            "                                                                                                  \n",
            " conv1d_53 (Conv1D)          (None, 15, 64)               12352     ['activation_35[0][0]']       \n",
            "                                                                                                  \n",
            " batch_normalization_36 (Ba  (None, 15, 64)               256       ['conv1d_53[0][0]']           \n",
            " tchNormalization)                                                                                \n",
            "                                                                                                  \n",
            " conv1d_51 (Conv1D)          (None, 15, 64)               4160      ['max_pooling1d_2[0][0]']     \n",
            "                                                                                                  \n",
            " add_16 (Add)                (None, 15, 64)               0         ['batch_normalization_36[0][0]\n",
            "                                                                    ',                            \n",
            "                                                                     'conv1d_51[0][0]']           \n",
            "                                                                                                  \n",
            " activation_36 (Activation)  (None, 15, 64)               0         ['add_16[0][0]']              \n",
            "                                                                                                  \n",
            " conv1d_55 (Conv1D)          (None, 8, 64)                12352     ['activation_36[0][0]']       \n",
            "                                                                                                  \n",
            " batch_normalization_37 (Ba  (None, 8, 64)                256       ['conv1d_55[0][0]']           \n",
            " tchNormalization)                                                                                \n",
            "                                                                                                  \n",
            " activation_37 (Activation)  (None, 8, 64)                0         ['batch_normalization_37[0][0]\n",
            "                                                                    ']                            \n",
            "                                                                                                  \n",
            " conv1d_56 (Conv1D)          (None, 8, 64)                12352     ['activation_37[0][0]']       \n",
            "                                                                                                  \n",
            " batch_normalization_38 (Ba  (None, 8, 64)                256       ['conv1d_56[0][0]']           \n",
            " tchNormalization)                                                                                \n",
            "                                                                                                  \n",
            " conv1d_54 (Conv1D)          (None, 8, 64)                4160      ['activation_36[0][0]']       \n",
            "                                                                                                  \n",
            " add_17 (Add)                (None, 8, 64)                0         ['batch_normalization_38[0][0]\n",
            "                                                                    ',                            \n",
            "                                                                     'conv1d_54[0][0]']           \n",
            "                                                                                                  \n",
            " activation_38 (Activation)  (None, 8, 64)                0         ['add_17[0][0]']              \n",
            "                                                                                                  \n",
            " conv1d_58 (Conv1D)          (None, 4, 128)               24704     ['activation_38[0][0]']       \n",
            "                                                                                                  \n",
            " batch_normalization_39 (Ba  (None, 4, 128)               512       ['conv1d_58[0][0]']           \n",
            " tchNormalization)                                                                                \n",
            "                                                                                                  \n",
            " activation_39 (Activation)  (None, 4, 128)               0         ['batch_normalization_39[0][0]\n",
            "                                                                    ']                            \n",
            "                                                                                                  \n",
            " conv1d_59 (Conv1D)          (None, 4, 128)               49280     ['activation_39[0][0]']       \n",
            "                                                                                                  \n",
            " batch_normalization_40 (Ba  (None, 4, 128)               512       ['conv1d_59[0][0]']           \n",
            " tchNormalization)                                                                                \n",
            "                                                                                                  \n",
            " conv1d_57 (Conv1D)          (None, 4, 128)               8320      ['activation_38[0][0]']       \n",
            "                                                                                                  \n",
            " add_18 (Add)                (None, 4, 128)               0         ['batch_normalization_40[0][0]\n",
            "                                                                    ',                            \n",
            "                                                                     'conv1d_57[0][0]']           \n",
            "                                                                                                  \n",
            " activation_40 (Activation)  (None, 4, 128)               0         ['add_18[0][0]']              \n",
            "                                                                                                  \n",
            " conv1d_61 (Conv1D)          (None, 2, 128)               49280     ['activation_40[0][0]']       \n",
            "                                                                                                  \n",
            " batch_normalization_41 (Ba  (None, 2, 128)               512       ['conv1d_61[0][0]']           \n",
            " tchNormalization)                                                                                \n",
            "                                                                                                  \n",
            " activation_41 (Activation)  (None, 2, 128)               0         ['batch_normalization_41[0][0]\n",
            "                                                                    ']                            \n",
            "                                                                                                  \n",
            " conv1d_62 (Conv1D)          (None, 2, 128)               49280     ['activation_41[0][0]']       \n",
            "                                                                                                  \n",
            " batch_normalization_42 (Ba  (None, 2, 128)               512       ['conv1d_62[0][0]']           \n",
            " tchNormalization)                                                                                \n",
            "                                                                                                  \n",
            " conv1d_60 (Conv1D)          (None, 2, 128)               16512     ['activation_40[0][0]']       \n",
            "                                                                                                  \n",
            " add_19 (Add)                (None, 2, 128)               0         ['batch_normalization_42[0][0]\n",
            "                                                                    ',                            \n",
            "                                                                     'conv1d_60[0][0]']           \n",
            "                                                                                                  \n",
            " activation_42 (Activation)  (None, 2, 128)               0         ['add_19[0][0]']              \n",
            "                                                                                                  \n",
            " conv1d_64 (Conv1D)          (None, 1, 256)               98560     ['activation_42[0][0]']       \n",
            "                                                                                                  \n",
            " batch_normalization_43 (Ba  (None, 1, 256)               1024      ['conv1d_64[0][0]']           \n",
            " tchNormalization)                                                                                \n",
            "                                                                                                  \n",
            " activation_43 (Activation)  (None, 1, 256)               0         ['batch_normalization_43[0][0]\n",
            "                                                                    ']                            \n",
            "                                                                                                  \n",
            " conv1d_65 (Conv1D)          (None, 1, 256)               196864    ['activation_43[0][0]']       \n",
            "                                                                                                  \n",
            " batch_normalization_44 (Ba  (None, 1, 256)               1024      ['conv1d_65[0][0]']           \n",
            " tchNormalization)                                                                                \n",
            "                                                                                                  \n",
            " conv1d_63 (Conv1D)          (None, 1, 256)               33024     ['activation_42[0][0]']       \n",
            "                                                                                                  \n",
            " add_20 (Add)                (None, 1, 256)               0         ['batch_normalization_44[0][0]\n",
            "                                                                    ',                            \n",
            "                                                                     'conv1d_63[0][0]']           \n",
            "                                                                                                  \n",
            " activation_44 (Activation)  (None, 1, 256)               0         ['add_20[0][0]']              \n",
            "                                                                                                  \n",
            " conv1d_67 (Conv1D)          (None, 1, 256)               196864    ['activation_44[0][0]']       \n",
            "                                                                                                  \n",
            " batch_normalization_45 (Ba  (None, 1, 256)               1024      ['conv1d_67[0][0]']           \n",
            " tchNormalization)                                                                                \n",
            "                                                                                                  \n",
            " activation_45 (Activation)  (None, 1, 256)               0         ['batch_normalization_45[0][0]\n",
            "                                                                    ']                            \n",
            "                                                                                                  \n",
            " conv1d_68 (Conv1D)          (None, 1, 256)               196864    ['activation_45[0][0]']       \n",
            "                                                                                                  \n",
            " batch_normalization_46 (Ba  (None, 1, 256)               1024      ['conv1d_68[0][0]']           \n",
            " tchNormalization)                                                                                \n",
            "                                                                                                  \n",
            " conv1d_66 (Conv1D)          (None, 1, 256)               65792     ['activation_44[0][0]']       \n",
            "                                                                                                  \n",
            " add_21 (Add)                (None, 1, 256)               0         ['batch_normalization_46[0][0]\n",
            "                                                                    ',                            \n",
            "                                                                     'conv1d_66[0][0]']           \n",
            "                                                                                                  \n",
            " activation_46 (Activation)  (None, 1, 256)               0         ['add_21[0][0]']              \n",
            "                                                                                                  \n",
            " conv1d_70 (Conv1D)          (None, 1, 512)               393728    ['activation_46[0][0]']       \n",
            "                                                                                                  \n",
            " batch_normalization_47 (Ba  (None, 1, 512)               2048      ['conv1d_70[0][0]']           \n",
            " tchNormalization)                                                                                \n",
            "                                                                                                  \n",
            " activation_47 (Activation)  (None, 1, 512)               0         ['batch_normalization_47[0][0]\n",
            "                                                                    ']                            \n",
            "                                                                                                  \n",
            " conv1d_71 (Conv1D)          (None, 1, 512)               786944    ['activation_47[0][0]']       \n",
            "                                                                                                  \n",
            " batch_normalization_48 (Ba  (None, 1, 512)               2048      ['conv1d_71[0][0]']           \n",
            " tchNormalization)                                                                                \n",
            "                                                                                                  \n",
            " conv1d_69 (Conv1D)          (None, 1, 512)               131584    ['activation_46[0][0]']       \n",
            "                                                                                                  \n",
            " add_22 (Add)                (None, 1, 512)               0         ['batch_normalization_48[0][0]\n",
            "                                                                    ',                            \n",
            "                                                                     'conv1d_69[0][0]']           \n",
            "                                                                                                  \n",
            " activation_48 (Activation)  (None, 1, 512)               0         ['add_22[0][0]']              \n",
            "                                                                                                  \n",
            " conv1d_73 (Conv1D)          (None, 1, 512)               786944    ['activation_48[0][0]']       \n",
            "                                                                                                  \n",
            " batch_normalization_49 (Ba  (None, 1, 512)               2048      ['conv1d_73[0][0]']           \n",
            " tchNormalization)                                                                                \n",
            "                                                                                                  \n",
            " activation_49 (Activation)  (None, 1, 512)               0         ['batch_normalization_49[0][0]\n",
            "                                                                    ']                            \n",
            "                                                                                                  \n",
            " conv1d_74 (Conv1D)          (None, 1, 512)               786944    ['activation_49[0][0]']       \n",
            "                                                                                                  \n",
            " batch_normalization_50 (Ba  (None, 1, 512)               2048      ['conv1d_74[0][0]']           \n",
            " tchNormalization)                                                                                \n",
            "                                                                                                  \n",
            " conv1d_72 (Conv1D)          (None, 1, 512)               262656    ['activation_48[0][0]']       \n",
            "                                                                                                  \n",
            " add_23 (Add)                (None, 1, 512)               0         ['batch_normalization_50[0][0]\n",
            "                                                                    ',                            \n",
            "                                                                     'conv1d_72[0][0]']           \n",
            "                                                                                                  \n",
            " activation_50 (Activation)  (None, 1, 512)               0         ['add_23[0][0]']              \n",
            "                                                                                                  \n",
            " global_average_pooling1d_2  (None, 512)                  0         ['activation_50[0][0]']       \n",
            "  (GlobalAveragePooling1D)                                                                        \n",
            "                                                                                                  \n",
            " dense_4 (Dense)             (None, 256)                  131328    ['global_average_pooling1d_2[0\n",
            "                                                                    ][0]']                        \n",
            "                                                                                                  \n",
            " dense_5 (Dense)             (None, 2)                    514       ['dense_4[0][0]']             \n",
            "                                                                                                  \n",
            "==================================================================================================\n",
            "Total params: 4339842 (16.56 MB)\n",
            "Trainable params: 4332034 (16.53 MB)\n",
            "Non-trainable params: 7808 (30.50 KB)\n",
            "__________________________________________________________________________________________________\n"
          ]
        }
      ],
      "source": [
        "# Create the model.\n",
        "model = custom_cnn1d_binary()\n",
        "model.summary()"
      ]
    },
    {
      "cell_type": "code",
      "execution_count": null,
      "metadata": {
        "id": "8yYINJ-eDVxU",
        "colab": {
          "base_uri": "https://localhost:8080/"
        },
        "outputId": "4a3ba149-2f01-4526-e65e-fd1f4c45d3fc"
      },
      "outputs": [
        {
          "metadata": {
            "tags": null
          },
          "name": "stdout",
          "output_type": "stream",
          "text": [
            "Epoch 1/10\n",
            "114748/114748 [==============================] - ETA: 0s - loss: 0.0048 - accuracy: 0.9987\n",
            "Epoch 1: val_loss improved from inf to 0.00211, saving model to custom_cnn1d_binary.h5\n"
          ]
        },
        {
          "metadata": {
            "tags": null
          },
          "name": "stderr",
          "output_type": "stream",
          "text": [
            "/usr/local/lib/python3.10/dist-packages/keras/src/engine/training.py:3079: UserWarning: You are saving your model as an HDF5 file via `model.save()`. This file format is considered legacy. We recommend using instead the native Keras format, e.g. `model.save('my_model.keras')`.\n",
            "  saving_api.save_model(\n"
          ]
        },
        {
          "output_type": "stream",
          "name": "stdout",
          "text": [
            "114748/114748 [==============================] - 3303s 29ms/step - loss: 0.0048 - accuracy: 0.9987 - val_loss: 0.0021 - val_accuracy: 0.9993\n",
            "Epoch 2/10\n",
            "114748/114748 [==============================] - ETA: 0s - loss: 0.0066 - accuracy: 0.9987\n",
            "Epoch 2: val_loss did not improve from 0.00211\n",
            "114748/114748 [==============================] - 3192s 28ms/step - loss: 0.0066 - accuracy: 0.9987 - val_loss: 0.0022 - val_accuracy: 0.9991\n",
            "Epoch 3/10\n",
            "114747/114748 [============================>.] - ETA: 0s - loss: 0.0066 - accuracy: 0.9986\n",
            "Epoch 3: val_loss did not improve from 0.00211\n",
            "114748/114748 [==============================] - 3070s 27ms/step - loss: 0.0066 - accuracy: 0.9986 - val_loss: 0.0038 - val_accuracy: 0.9988\n",
            "Epoch 4/10\n",
            " 40673/114748 [=========>....................] - ETA: 28:03 - loss: 0.0032 - accuracy: 0.9992"
          ]
        }
      ],
      "source": [
        "# Compile the model\n",
        "model.compile(optimizer='adam',\n",
        "              loss='binary_crossentropy',\n",
        "              metrics=['accuracy'])\n",
        "\n",
        "# Define callbacks\n",
        "model_checkpoint = ModelCheckpoint('custom_cnn1d_binary.h5', save_best_only=True, verbose=1)\n",
        "early_stopping = EarlyStopping(monitor='val_loss', patience=3, verbose=1)\n",
        "\n",
        "# Train the model\n",
        "history = model.fit(x_train, y_train, epochs=10, batch_size=64, validation_data=(x_test, y_test), callbacks=[model_checkpoint, early_stopping])\n",
        "\n",
        "# Save the model history and hyperparameters\n",
        "model_info = {\n",
        "    'history': history.history,\n",
        "    'hyperparameters': {\n",
        "        'epochs': 10,\n",
        "        'batch_size': 64\n",
        "        # Add more hyperparameters as needed\n",
        "    }\n",
        "}\n",
        "\n",
        "np.save('model_info.npy', model_info)"
      ]
    },
    {
      "cell_type": "code",
      "execution_count": null,
      "metadata": {
        "id": "8PaQDk2I4OGj",
        "colab": {
          "base_uri": "https://localhost:8080/"
        },
        "outputId": "131a4641-fb32-4cc3-c98e-d5d62d1fbd15"
      },
      "outputs": [
        {
          "output_type": "stream",
          "name": "stdout",
          "text": [
            "Model: \"sequential_1\"\n",
            "_________________________________________________________________\n",
            " Layer (type)                Output Shape              Param #   \n",
            "=================================================================\n",
            " conv1d_3 (Conv1D)           (None, 58, 16)            64        \n",
            "                                                                 \n",
            " conv1d_4 (Conv1D)           (None, 58, 48)            2352      \n",
            "                                                                 \n",
            " conv1d_5 (Conv1D)           (None, 58, 48)            6960      \n",
            "                                                                 \n",
            " global_average_pooling1d_1   (None, 48)               0         \n",
            " (GlobalAveragePooling1D)                                        \n",
            "                                                                 \n",
            " dense_3 (Dense)             (None, 32)                1568      \n",
            "                                                                 \n",
            " dense_4 (Dense)             (None, 16)                528       \n",
            "                                                                 \n",
            " dense_5 (Dense)             (None, 8)                 136       \n",
            "                                                                 \n",
            "=================================================================\n",
            "Total params: 11,608\n",
            "Trainable params: 11,608\n",
            "Non-trainable params: 0\n",
            "_________________________________________________________________\n",
            "<bound method Model.summary of <keras.engine.sequential.Sequential object at 0x7f86205263a0>>\n",
            "Epoch 1/50\n",
            "5170/5170 [==============================] - 48s 9ms/step - loss: 0.0715 - accuracy: 0.9732 - val_loss: 0.0149 - val_accuracy: 0.9952\n",
            "Epoch 2/50\n",
            "5170/5170 [==============================] - 43s 8ms/step - loss: 0.0153 - accuracy: 0.9949 - val_loss: 0.0286 - val_accuracy: 0.9924\n",
            "Epoch 3/50\n",
            "5170/5170 [==============================] - 43s 8ms/step - loss: 0.0127 - accuracy: 0.9959 - val_loss: 0.0112 - val_accuracy: 0.9957\n",
            "Epoch 4/50\n",
            "5170/5170 [==============================] - 43s 8ms/step - loss: 0.0109 - accuracy: 0.9967 - val_loss: 0.0086 - val_accuracy: 0.9971\n",
            "Epoch 5/50\n",
            "5170/5170 [==============================] - 43s 8ms/step - loss: 0.0101 - accuracy: 0.9970 - val_loss: 0.0065 - val_accuracy: 0.9981\n",
            "Epoch 6/50\n",
            "5170/5170 [==============================] - 43s 8ms/step - loss: 0.0086 - accuracy: 0.9974 - val_loss: 0.0062 - val_accuracy: 0.9980\n",
            "Epoch 7/50\n",
            "5170/5170 [==============================] - 43s 8ms/step - loss: 0.0077 - accuracy: 0.9976 - val_loss: 0.0060 - val_accuracy: 0.9982\n",
            "Epoch 8/50\n",
            "5170/5170 [==============================] - 43s 8ms/step - loss: 0.0073 - accuracy: 0.9978 - val_loss: 0.0068 - val_accuracy: 0.9978\n",
            "Epoch 8: early stopping\n"
          ]
        },
        {
          "output_type": "stream",
          "name": "stderr",
          "text": [
            "WARNING:absl:Found untraced functions such as _jit_compiled_convolution_op, _jit_compiled_convolution_op, _jit_compiled_convolution_op while saving (showing 3 of 3). These functions will not be directly callable after loading.\n"
          ]
        }
      ],
      "source": []
    },
    {
      "cell_type": "code",
      "execution_count": null,
      "metadata": {
        "id": "a3pgLQ-rixQU"
      },
      "outputs": [],
      "source": [
        "#confusion matrix definition\n",
        "def confusion_plot(y_test, y_test_pred):\n",
        "\n",
        "    C = confusion_matrix(y_test, y_test_pred)\n",
        "    cm_df = pd.DataFrame(C)\n",
        "    plt.figure(figsize=(20,15))\n",
        "    sns.set(font_scale=1.4)\n",
        "    sns.heatmap(cm_df, annot=True, annot_kws={\"size\":12}, fmt='g', xticklabels=labels, yticklabels=labels)\n",
        "    plt.ylabel('Actual Class')\n",
        "    plt.xlabel('Predicted Class')\n",
        "\n",
        "    plt.show()"
      ]
    },
    {
      "cell_type": "code",
      "execution_count": null,
      "metadata": {
        "id": "bsf8lKkmfJ2c",
        "colab": {
          "base_uri": "https://localhost:8080/"
        },
        "outputId": "93dd82a3-49fe-42f6-a740-590d44794e66"
      },
      "outputs": [
        {
          "output_type": "stream",
          "name": "stdout",
          "text": [
            "2216/2216 [==============================] - 21s 9ms/step - loss: 9.8595 - accuracy: 0.8926\n",
            "69231/69231 [==============================] - 302s 4ms/step\n"
          ]
        }
      ],
      "source": [
        "#test a model\n",
        "escore = model.evaluate(x_test, y_test, batch_size=1000)\n",
        "y_pred = model.predict(x_test)"
      ]
    },
    {
      "cell_type": "code",
      "source": [
        "# Get the training history\n",
        "training_loss = history.history['loss']\n",
        "validation_loss = history.history['val_loss']\n",
        "training_accuracy = history.history['accuracy']\n",
        "validation_accuracy = history.history['val_accuracy']\n",
        "\n",
        "# Plot the training loss and validation loss\n",
        "plt.figure(figsize=(12, 6))\n",
        "plt.subplot(1, 2, 1)\n",
        "plt.plot(training_loss, label='Training Loss')\n",
        "plt.plot(validation_loss, label='Validation Loss')\n",
        "plt.title('Loss')\n",
        "plt.xlabel('Epoch')\n",
        "plt.legend()\n",
        "\n",
        "# Plot the training accuracy and validation accuracy\n",
        "plt.subplot(1, 2, 2)\n",
        "plt.plot(training_accuracy, label='Training Accuracy')\n",
        "plt.plot(validation_accuracy, label='Validation Accuracy')\n",
        "plt.title('Accuracy')\n",
        "plt.xlabel('Epoch')\n",
        "plt.legend()\n",
        "\n",
        "plt.tight_layout()\n",
        "plt.show()"
      ],
      "metadata": {
        "id": "S5CZ7LyUEsWO"
      },
      "execution_count": null,
      "outputs": []
    },
    {
      "cell_type": "code",
      "source": [
        "\n",
        "# Get the training history\n",
        "training_loss = history.history['loss']\n",
        "validation_loss = history.history['val_loss']\n",
        "training_accuracy = history.history['accuracy']\n",
        "validation_accuracy = history.history['val_accuracy']\n",
        "\n",
        "# Plot the training loss and validation loss\n",
        "plt.figure(figsize=(12, 6))\n",
        "plt.subplot(1, 2, 1)\n",
        "plt.plot(training_loss, label='Training Loss')\n",
        "plt.plot(validation_loss, label='Validation Loss')\n",
        "plt.title('Loss')\n",
        "plt.xlabel('Epoch')\n",
        "plt.legend()\n",
        "\n",
        "# Plot the training accuracy and validation accuracy\n",
        "plt.subplot(1, 2, 2)\n",
        "plt.plot(training_accuracy, label='Training Accuracy')\n",
        "plt.plot(validation_accuracy, label='Validation Accuracy')\n",
        "plt.title('Accuracy')\n",
        "plt.xlabel('Epoch')\n",
        "plt.legend()\n",
        "\n",
        "plt.tight_layout()\n",
        "plt.show()"
      ],
      "metadata": {
        "colab": {
          "base_uri": "https://localhost:8080/",
          "height": 383
        },
        "id": "pDc-u9Utz9tl",
        "outputId": "a6b7c007-f9a4-4220-edc0-9fbce7392189"
      },
      "execution_count": null,
      "outputs": [
        {
          "output_type": "display_data",
          "data": {
            "text/plain": [
              "<Figure size 1200x600 with 2 Axes>"
            ],
            "image/png": "[encoded data removed]"
          },
          "metadata": {}
        }
      ]
    },
    {
      "cell_type": "code",
      "source": [
        "pip install plotly"
      ],
      "metadata": {
        "colab": {
          "base_uri": "https://localhost:8080/"
        },
        "id": "AQlOfGeq2Ulz",
        "outputId": "ed3d13d6-7fa4-4204-c162-88eeb2c8bd0b"
      },
      "execution_count": null,
      "outputs": [
        {
          "output_type": "stream",
          "name": "stdout",
          "text": [
            "Requirement already satisfied: plotly in /usr/local/lib/python3.10/dist-packages (5.15.0)\n",
            "Requirement already satisfied: tenacity>=6.2.0 in /usr/local/lib/python3.10/dist-packages (from plotly) (8.2.3)\n",
            "Requirement already satisfied: packaging in /usr/local/lib/python3.10/dist-packages (from plotly) (23.2)\n"
          ]
        }
      ]
    },
    {
      "cell_type": "code",
      "source": [
        "# Train the model on the target dataset\n",
        "#fine_tuned_model.fit(target_dataset, epochs=10, batch_size=32, validation_data=validation_dataset)\n",
        "history= fine_tuned_model.fit(x_target_train, y_target_train,  # Provide your new dataset and labels\n",
        "                    epochs=10, batch_size=64, validation_data=(x_target_test, y_target_test))"
      ],
      "metadata": {
        "colab": {
          "base_uri": "https://localhost:8080/"
        },
        "id": "OAn_bEeFYVoJ",
        "outputId": "959deccb-3d84-4329-acd9-744546d7a0a6"
      },
      "execution_count": null,
      "outputs": [
        {
          "output_type": "stream",
          "name": "stdout",
          "text": [
            "Epoch 1/10\n",
            "3429/3429 [==============================] - 105s 27ms/step - loss: 0.5053 - accuracy: 0.8433 - val_loss: 1.3222 - val_accuracy: 0.6978\n",
            "Epoch 2/10\n",
            "3429/3429 [==============================] - 90s 26ms/step - loss: 0.3189 - accuracy: 0.8958 - val_loss: 2.4097 - val_accuracy: 0.3561\n",
            "Epoch 3/10\n",
            "3429/3429 [==============================] - 89s 26ms/step - loss: 0.2619 - accuracy: 0.9104 - val_loss: 2.0155 - val_accuracy: 0.5771\n",
            "Epoch 4/10\n",
            "3429/3429 [==============================] - 89s 26ms/step - loss: 0.2208 - accuracy: 0.9233 - val_loss: 3.6633 - val_accuracy: 0.3290\n",
            "Epoch 5/10\n",
            "3429/3429 [==============================] - 89s 26ms/step - loss: 0.1982 - accuracy: 0.9313 - val_loss: 3.4933 - val_accuracy: 0.3085\n",
            "Epoch 6/10\n",
            "3429/3429 [==============================] - 89s 26ms/step - loss: 0.1853 - accuracy: 0.9341 - val_loss: 2.7582 - val_accuracy: 0.2915\n",
            "Epoch 7/10\n",
            "3429/3429 [==============================] - 88s 26ms/step - loss: 0.1769 - accuracy: 0.9370 - val_loss: 4.1756 - val_accuracy: 0.3041\n",
            "Epoch 8/10\n",
            "3429/3429 [==============================] - 89s 26ms/step - loss: 0.1725 - accuracy: 0.9383 - val_loss: 3.3178 - val_accuracy: 0.2997\n",
            "Epoch 9/10\n",
            "3429/3429 [==============================] - 91s 27ms/step - loss: 0.1688 - accuracy: 0.9398 - val_loss: 4.7812 - val_accuracy: 0.2751\n",
            "Epoch 10/10\n",
            "3429/3429 [==============================] - 92s 27ms/step - loss: 0.1628 - accuracy: 0.9418 - val_loss: 4.0760 - val_accuracy: 0.3100\n"
          ]
        }
      ]
    }
  ],
  "metadata": {
    "accelerator": "GPU",
    "colab": {
      "provenance": [],
      "machine_shape": "hm",
      "gpuType": "T4",
      "include_colab_link": true
    },
    "kernelspec": {
      "display_name": "Python 3",
      "name": "python3"
    },
    "language_info": {
      "name": "python"
    }
  },
  "nbformat": 4,
  "nbformat_minor": 0
}